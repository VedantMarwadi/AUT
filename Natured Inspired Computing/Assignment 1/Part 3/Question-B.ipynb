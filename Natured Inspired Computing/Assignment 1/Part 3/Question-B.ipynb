{
 "cells": [
  {
   "cell_type": "markdown",
   "id": "9dac3211-6a13-4d3f-a5ac-a83616c0264a",
   "metadata": {},
   "source": [
    "  <h1 style=\"color: brown;\">1. Introduction</h1>"
   ]
  },
  {
   "cell_type": "markdown",
   "id": "da6468e9-f5a6-4714-8068-5adb72ccf461",
   "metadata": {},
   "source": [
    "<div style=\"background-color: #F5F5DC; border: 2px solid #8b4513; padding: 15px; border-radius: 10px; font-family: Arial, sans-serif; box-shadow: 3px 3px 15px rgba(0, 0, 0, 0.1);\">\n",
    "\n",
    "  <p>In deep learning, the number of training epochs plays a crucial role in determining the performance of a model. This task focuses on determining whether increasing the number of training epochs can improve the accuracy of the worst-performing case from the previous experiment, where noise was systematically added to the XOR dataset. The worst performance was observed when the noise standard deviation was set to 0.5, resulting in a test accuracy of 72%. </p>\n",
    "\n",
    "  <p>To support this investigation, the model is trained for 200, 500, 800, and 1100 epochs, and the results are compared. Any improvements or lack thereof are discussed, along with plausible reasons for these outcomes. As in the previous experiment, the MLP model consists of a single hidden layer with four nodes and is trained using the Stochastic Gradient Descent (SGD) optimizer with a learning rate of 0.1. Binary cross-entropy with logits (BCEWithLogitsLoss) is used as the loss function, and the Tanh activation function is applied to the hidden layer. The training dataset consists of 2,500 samples, and the test dataset includes 500 samples.</p>\n",
    "\n",
    "</div>\n"
   ]
  },
  {
   "cell_type": "markdown",
   "id": "b8fd5c55-355f-4d9a-9a2f-fd11c7ffc3b9",
   "metadata": {},
   "source": [
    "  <h1 style=\"color: brown;\">2. Importing Libraries</h1> "
   ]
  },
  {
   "cell_type": "code",
   "execution_count": 1,
   "id": "ad6e09aa-9477-440a-a515-75ce43e72646",
   "metadata": {},
   "outputs": [
    {
     "data": {
      "text/plain": [
       "<torch._C.Generator at 0x1ff31e76570>"
      ]
     },
     "execution_count": 1,
     "metadata": {},
     "output_type": "execute_result"
    }
   ],
   "source": [
    "import torch\n",
    "import torch.nn as nn\n",
    "from torch.utils.data import DataLoader\n",
    "import pandas as pd\n",
    "import matplotlib.pyplot as plt\n",
    "import numpy as np\n",
    "from tqdm import tqdm\n",
    "torch.manual_seed(88)"
   ]
  },
  {
   "cell_type": "markdown",
   "id": "b6388757-949e-448c-95aa-0871e2b41945",
   "metadata": {},
   "source": [
    "  <h1 style=\"color: brown;\">3. XOR Dataset Class Implementation</h1> "
   ]
  },
  {
   "cell_type": "code",
   "execution_count": 2,
   "id": "3e3e6be8-2dd2-4c7b-89ca-2b881d91925b",
   "metadata": {},
   "outputs": [],
   "source": [
    "class XOR_Dataset(torch.utils.data.Dataset):\n",
    "    # Defining the constructor of the XOR_Dataset class, which initializes the dataset with a given size and standard deviation (std).\n",
    "    def __init__(self, size, std=0.5):  # Default std is set to 0.5\n",
    "        # Calling the parent class constructor (super() refers to the Dataset class from torch.utils.data)\n",
    "        super().__init__()\n",
    "        # Storing the size and std as class attributes\n",
    "        self.size = size\n",
    "        self.std = std\n",
    "        # Calling the function to generate the XOR data with noise\n",
    "        self.generate_cont_xor()\n",
    "\n",
    "    # Defining a method to generate XOR data points with added Gaussian noise\n",
    "    def generate_cont_xor(self):\n",
    "        # Randomly generating pairs of binary values (0 or 1) of shape (size, 2)\n",
    "        self.data = torch.randint(low=0, high=2, size=(self.size, 2), dtype=torch.float32)\n",
    "        # Creating labels based on the XOR logic, where the sum of the pair equals 1 (i.e., one of the values is 1 and the other is 0)\n",
    "        self.label = (self.data.sum(dim=1) == 1).to(torch.float32).unsqueeze(1)\n",
    "        # Adding Gaussian noise to the data points based on the provided standard deviation\n",
    "        self.data += self.std * torch.randn(self.data.shape)\n",
    "\n",
    "    # Defining a method to return the total number of data points in the dataset\n",
    "    def __len__(self):\n",
    "        # Returning the size of the dataset\n",
    "        return self.size\n",
    "\n",
    "    # Defining a method to retrieve a specific data point and its corresponding label\n",
    "    def __getitem__(self, idx):\n",
    "        # Returning the data point at index 'idx' and its associated label\n",
    "        return self.data[idx], self.label[idx]"
   ]
  },
  {
   "cell_type": "markdown",
   "id": "504419d2-f559-4536-8bd0-41e7d9db1624",
   "metadata": {},
   "source": [
    "  <h1 style=\"color: brown;\">4. XOR Classifier Model Implementation</h1>"
   ]
  },
  {
   "cell_type": "code",
   "execution_count": 3,
   "id": "1b2fac69-cc54-4423-96d0-34151b2d5cab",
   "metadata": {},
   "outputs": [],
   "source": [
    "class XOR_Classifier(nn.Module):\n",
    "    # Defining the constructor of the XOR_Classifier class, which initializes the neural network architecture.\n",
    "    def __init__(self, num_inputs, num_hidden, num_outputs):\n",
    "        # Calling the parent class constructor (super() refers to the nn.Module class from torch.nn)\n",
    "        super().__init__()\n",
    "        # Creating the first linear layer (input layer), which connects 'num_inputs' features to 'num_hidden' neurons\n",
    "        self.linear1 = nn.Linear(num_inputs, num_hidden)\n",
    "        # Defining the activation function (Tanh) to introduce non-linearity into the model\n",
    "        self.activation = nn.Tanh()\n",
    "        # Creating the second linear layer (output layer), which connects 'num_hidden' neurons to 'num_outputs' features\n",
    "        self.linear2 = nn.Linear(num_hidden, num_outputs)\n",
    "        \n",
    "    # Defining the forward pass of the network (i.e., how data moves through the network)\n",
    "    def forward(self, x):\n",
    "        # Passing the input 'x' through the first linear layer\n",
    "        x = self.linear1(x)\n",
    "        # Applying the Tanh activation function to the output of the first layer\n",
    "        x = self.activation(x)\n",
    "        # Passing the activated output through the second linear layer (producing the final output)\n",
    "        return self.linear2(x)"
   ]
  },
  {
   "cell_type": "markdown",
   "id": "915967f4-6970-4388-afb8-bb6ddee871ed",
   "metadata": {},
   "source": [
    "  <h1 style=\"color: brown;\">5. XOR Classifier Training and Testing</h1> "
   ]
  },
  {
   "cell_type": "code",
   "execution_count": 4,
   "id": "b1558c0c-8b41-4789-976a-74397a786f71",
   "metadata": {},
   "outputs": [
    {
     "name": "stderr",
     "output_type": "stream",
     "text": [
      "Training for 200 epochs: 100%|███████████████████████████████████████████████████████| 200/200 [00:07<00:00, 26.54it/s]\n"
     ]
    },
    {
     "name": "stdout",
     "output_type": "stream",
     "text": [
      "Epochs: 200, Training Accuracy: 71.32%, Test Accuracy: 75.60%\n"
     ]
    },
    {
     "name": "stderr",
     "output_type": "stream",
     "text": [
      "Training for 500 epochs: 100%|███████████████████████████████████████████████████████| 500/500 [00:18<00:00, 26.38it/s]\n"
     ]
    },
    {
     "name": "stdout",
     "output_type": "stream",
     "text": [
      "Epochs: 500, Training Accuracy: 73.76%, Test Accuracy: 72.80%\n"
     ]
    },
    {
     "name": "stderr",
     "output_type": "stream",
     "text": [
      "Training for 800 epochs: 100%|███████████████████████████████████████████████████████| 800/800 [00:29<00:00, 26.76it/s]\n"
     ]
    },
    {
     "name": "stdout",
     "output_type": "stream",
     "text": [
      "Epochs: 800, Training Accuracy: 72.12%, Test Accuracy: 72.80%\n"
     ]
    },
    {
     "name": "stderr",
     "output_type": "stream",
     "text": [
      "Training for 1100 epochs: 100%|████████████████████████████████████████████████████| 1100/1100 [00:40<00:00, 26.95it/s]"
     ]
    },
    {
     "name": "stdout",
     "output_type": "stream",
     "text": [
      "Epochs: 1100, Training Accuracy: 74.44%, Test Accuracy: 74.80%\n"
     ]
    },
    {
     "name": "stderr",
     "output_type": "stream",
     "text": [
      "\n"
     ]
    }
   ],
   "source": [
    "# List of epoch values to experiment with\n",
    "epoch_variations = [200, 500, 800, 1100]\n",
    "\n",
    "# Defining the function to train the model with varied epochs and return accuracies\n",
    "def train_model_with_varied_epochs(epoch_list):\n",
    "    # Initializing lists to store training and testing accuracies for each epoch count\n",
    "    train_accuracies = []\n",
    "    test_accuracies = []\n",
    "\n",
    "    # Looping through each epoch count from the provided list\n",
    "    for epochs in epoch_list:\n",
    "        # Creating the training and testing datasets with std=0.5 (default in XOR_Dataset)\n",
    "        train_dataset = XOR_Dataset(size=2500)\n",
    "        test_dataset = XOR_Dataset(size=500)\n",
    "        # Creating DataLoaders to load the data in batches\n",
    "        train_loader = DataLoader(train_dataset, batch_size=128, shuffle=True)\n",
    "        test_loader = DataLoader(test_dataset, batch_size=128, shuffle=False)\n",
    "\n",
    "        # Initializing the XOR classifier model with 2 inputs, 4 hidden units, and 1 output\n",
    "        model = XOR_Classifier(num_inputs=2, num_hidden=4, num_outputs=1)\n",
    "        # Defining the loss function as binary cross entropy with logits\n",
    "        loss_module = nn.BCEWithLogitsLoss()\n",
    "        # Defining the optimizer as stochastic gradient descent (SGD) with a learning rate of 0.1\n",
    "        optimizer = torch.optim.SGD(model.parameters(), lr=0.1)\n",
    "\n",
    "        # Entering the training loop for the specified number of epochs\n",
    "        model.train()  # Setting the model to training mode\n",
    "        for epoch in tqdm(range(epochs), desc=f'Training for {epochs} epochs', leave=True):\n",
    "            # Looping through the training data in batches\n",
    "            for data, label in train_loader:\n",
    "                optimizer.zero_grad()  # Clearing the previous gradients\n",
    "                output = model(data)  # Performing a forward pass through the model\n",
    "                loss = loss_module(output, label)  # Calculating the loss\n",
    "                loss.backward()  # Performing backpropagation to compute gradients\n",
    "                optimizer.step()  # Updating the model weights\n",
    "\n",
    "        # After training, computing training and test accuracies\n",
    "        train_acc = compute_accuracy(train_loader, model)  # Calculating training accuracy\n",
    "        test_acc = compute_accuracy(test_loader, model)  # Calculating testing accuracy\n",
    "        \n",
    "        # Appending the results to the accuracy lists\n",
    "        train_accuracies.append(train_acc)\n",
    "        test_accuracies.append(test_acc)\n",
    "\n",
    "        # Printing the accuracy results for the current epoch count\n",
    "        print(f'Epochs: {epochs}, Training Accuracy: {train_acc:.2f}%, Test Accuracy: {test_acc:.2f}%')\n",
    "\n",
    "    # Returning the lists of training and testing accuracies\n",
    "    return train_accuracies, test_accuracies\n",
    "\n",
    "# Defining a function to compute the accuracy of the model\n",
    "def compute_accuracy(loader, model):\n",
    "    correct = 0  # Initializing counter for correct predictions\n",
    "    total = 0  # Initializing counter for total predictions\n",
    "    model.eval()  # Setting the model to evaluation mode (disables gradient calculation)\n",
    "    with torch.no_grad():  # Disabling gradient calculation for the accuracy evaluation\n",
    "        for data, label in loader:\n",
    "            output = model(data)  # Performing a forward pass to get the model's predictions\n",
    "            predicted = (torch.sigmoid(output) > 0.5).float()  # Converting logits to binary predictions\n",
    "            total += label.size(0)  # Counting total number of labels\n",
    "            correct += (predicted == label).sum().item()  # Counting correctly predicted labels\n",
    "    return 100 * correct / total  # Returning accuracy as a percentage\n",
    "\n",
    "# Running the training function and storing the accuracies in global variables\n",
    "train_accuracies, test_accuracies = train_model_with_varied_epochs(epoch_variations)"
   ]
  },
  {
   "cell_type": "markdown",
   "id": "19263167-00c5-443c-a0ac-999396ddf79a",
   "metadata": {},
   "source": [
    "  <h1 style=\"color: brown;\">6. Visualization</h1> "
   ]
  },
  {
   "cell_type": "code",
   "execution_count": 5,
   "id": "47759280-a3a9-4b22-a8d0-8058e4f8af44",
   "metadata": {},
   "outputs": [
    {
     "data": {
      "image/png": "[encoded data removed]",
      "text/plain": [
       "<Figure size 1000x500 with 1 Axes>"
      ]
     },
     "metadata": {},
     "output_type": "display_data"
    }
   ],
   "source": [
    "# Creating a new figure with a specific size for better visualization\n",
    "plt.figure(figsize=(10, 5))\n",
    "\n",
    "# Plotting the training accuracies over different epoch values\n",
    "plt.plot(epoch_variations, train_accuracies, label='Training Accuracy', marker='o')\n",
    "# Plotting the test accuracies over different epoch values\n",
    "plt.plot(epoch_variations, test_accuracies, label='Test Accuracy', marker='o')\n",
    "\n",
    "# Setting the title for the plot, indicating the purpose of the experiment\n",
    "plt.title('Effect of Increasing Epochs on XOR Classification (std=0.5)')\n",
    "\n",
    "# Adding labels to the x-axis (Number of Epochs) and y-axis (Accuracy in %)\n",
    "plt.xlabel('Number of Epochs')\n",
    "plt.ylabel('Accuracy (%)')\n",
    "\n",
    "# Adding a legend to differentiate between the training and test accuracy lines\n",
    "plt.legend()\n",
    "\n",
    "# Adding grid lines to the plot for better readability\n",
    "plt.grid(True)\n",
    "\n",
    "# Displaying the plot on the screen\n",
    "plt.show()"
   ]
  },
  {
   "cell_type": "markdown",
   "id": "36b42172-c944-432b-bb1f-fcf5d2fd030a",
   "metadata": {},
   "source": [
    "  <h1 style=\"color: brown;\">7. Results</h1> "
   ]
  },
  {
   "cell_type": "markdown",
   "id": "16eb0ab9-63eb-485d-ad2a-9bada193fa1f",
   "metadata": {},
   "source": [
    "<div style=\"background-color: #F5F5DC; border: 2px solid #8b4513; padding: 15px; border-radius: 10px; font-family: Arial, sans-serif; box-shadow: 3px 3px 15px rgba(0, 0, 0, 0.1);\">\n",
    "  \n",
    "  <p style=\"font-size: 16px; color: #333;\">The table below shows the training and test accuracies of the XOR classifier trained on the dataset with the highest noise level, using increasing numbers of epochs.</p>\n",
    "\n",
    "  <table style=\"width:100%; border-collapse: collapse; margin: 10px 0; font-size: 16px; color: #333;\">\n",
    "    <tr style=\"background-color: #8b4513; color: white;\">\n",
    "      <th style=\"padding: 8px; border: 2px solid black;\">Epochs</th>\n",
    "      <th style=\"padding: 8px; border: 2px solid black;\">Training Accuracy (%)</th>\n",
    "      <th style=\"padding: 8px; border: 2px solid black;\">Test Accuracy (%)</th>\n",
    "    </tr>\n",
    "    <tr>\n",
    "      <td style=\"padding: 8px; border: 2px solid black; background-color: #F7F0DB;\">200</td>\n",
    "      <td style=\"padding: 8px; border: 2px solid black; background-color: #F7F0DB;\">71.32</td>\n",
    "      <td style=\"padding: 8px; border: 2px solid black; background-color: #F7F0DB;\">75.60</td>\n",
    "    </tr>\n",
    "    <tr>\n",
    "      <td style=\"padding: 8px; border: 2px solid black; background-color: #EADAB8;\">500</td>\n",
    "      <td style=\"padding: 8px; border: 2px solid black; background-color: #EADAB8;\">73.76</td>\n",
    "      <td style=\"padding: 8px; border: 2px solid black; background-color: #EADAB8;\">72.80</td>\n",
    "    </tr>\n",
    "    <tr>\n",
    "      <td style=\"padding: 8px; border: 2px solid black; background-color: #F7F0DB;\">800</td>\n",
    "      <td style=\"padding: 8px; border: 2px solid black; background-color: #F7F0DB;\">72.12</td>\n",
    "      <td style=\"padding: 8px; border: 2px solid black; background-color: #F7F0DB;\">72.80</td>\n",
    "    </tr>\n",
    "    <tr>\n",
    "      <td style=\"padding: 8px; border: 2px solid black; background-color: #EADAB8;\">1100</td>\n",
    "      <td style=\"padding: 8px; border: 2px solid black; background-color: #EADAB8;\">74.44</td>\n",
    "      <td style=\"padding: 8px; border: 2px solid black; background-color: #EADAB8;\">74.80</td>\n",
    "    </tr>\n",
    "  </table>\n",
    "\n",
    "</div>\n"
   ]
  },
  {
   "cell_type": "markdown",
   "id": "866619cd-2da4-4e5a-a374-62c71105211c",
   "metadata": {},
   "source": [
    "<h2 style=\"color: brown;\">7.1 Interpretation of Results</h2>"
   ]
  },
  {
   "cell_type": "markdown",
   "id": "a20f79e2-3938-4b20-b3a1-f33aaa5bf7b1",
   "metadata": {},
   "source": [
    "<div style=\"background-color: #F5F5DC; border: 2px solid #8b4513; padding: 15px; border-radius: 10px; font-family: Arial, sans-serif; box-shadow: 3px 3px 15px rgba(0, 0, 0, 0.1);\">\n",
    "\n",
    "  <p><strong>Initial Improvement with More Epochs:</strong></p>\n",
    "  <p>Training the model for 200 epochs results in a test accuracy of 75.60%, which is higher than the baseline test accuracy of 72% obtained in the original experiment with 100 epochs. This suggests that increasing the number of epochs initially helps the model adapt to the noisy data and learn a better representation of the XOR problem. However, the training accuracy remains relatively low at 71.32%, indicating that the model is still struggling to capture the noise-influenced data despite improving on the test set.</p>\n",
    "\n",
    "  <p><strong>Diminishing Returns with Extended Training:</strong></p>\n",
    "  <p>Training the model for 500 and 800 epochs shows diminishing improvements. At 500 epochs, the training accuracy increases slightly to 73.76%, but the test accuracy drops back down to 72.80%. This plateau in test performance, despite longer training, suggests that the model has already reached its learning capacity for the given noisy data. Even at 800 epochs, the test accuracy remains stable at 72.80%, while the training accuracy decreases slightly to 72.12%. This indicates that further training does not help the model generalize better and may even introduce slight overfitting, as seen in the reduced training accuracy.</p>\n",
    "\n",
    "  <p><strong>Slight Improvement at 1100 Epochs:</strong></p>\n",
    "  <p>At 1100 epochs, the training accuracy rises to 74.44%, and the test accuracy increases slightly to 74.80%. This suggests that while more training can lead to marginal improvements, the effect is not substantial, and the model's performance remains limited by the noise in the data.</p>\n",
    "\n",
    "</div>\n"
   ]
  },
  {
   "cell_type": "markdown",
   "id": "7b8bd88c-b990-4d1d-9f85-4be62db7fd3d",
   "metadata": {},
   "source": [
    "<h2 style=\"color: brown;\">7.2 Plausible Reasons for Changes in Accuracy</h2> "
   ]
  },
  {
   "cell_type": "markdown",
   "id": "7fd08edb-a105-4a4f-b2de-806f115024e5",
   "metadata": {},
   "source": [
    "<div style=\"background-color: #F5F5DC; border: 2px solid #8b4513; padding: 15px; border-radius: 10px; font-family: Arial, sans-serif; box-shadow: 3px 3px 15px rgba(0, 0, 0, 0.1);\">\n",
    "\n",
    "  <p><strong>Effect of Noise on Learning:</strong></p>\n",
    "  The XOR problem with a standard deviation of 0.5 introduces a significant amount of noise, which blurs the boundaries between the two classes. The model's performance is constrained by this noise, making it harder to achieve high accuracy even with prolonged training. This explains why the test accuracy plateaus around 72–75%, regardless of increasing epochs.</p>\n",
    "\n",
    "  <p><strong>Overfitting Risk:</strong></p>\n",
    "As the number of epochs increases, there is a risk of the model overfitting to the noisy training data. This is evident in the fluctuation of training accuracy across different epoch counts. While the test accuracy improves slightly, it remains relatively stable after 500 epochs, indicating that further training provides diminishing returns and may cause the model to memorize noise rather than learn useful patterns.</p>\n",
    "\n",
    "  <p><strong>Capacity of the Model:</strong><p>The MLP model with a single hidden layer and four neurons has limited capacity, which may restrict its ability to effectively learn from noisy data, even with extended training. The small improvements at 1100 epochs suggest that the model is reaching the limits of what it can learn from the noisy XOR dataset.</p>\n",
    "\n",
    "</div>\n"
   ]
  },
  {
   "cell_type": "markdown",
   "id": "9e9e5a68-09f3-4990-ab13-f37373489517",
   "metadata": {},
   "source": [
    "<h2 style=\"color: brown;\">8. Conclusion</h1>"
   ]
  },
  {
   "cell_type": "markdown",
   "id": "c8ba1dc0-df6f-47a7-8fc0-fc048db1345a",
   "metadata": {},
   "source": [
    "<div style=\"background-color: #F5F5DC; border: 2px solid #8b4513; padding: 15px; border-radius: 10px; font-family: Arial, sans-serif; box-shadow: 3px 3px 15px rgba(0, 0, 0, 0.1);\">\n",
    "  \n",
    "  <p>In conclusion, increasing the number of training epochs from 200 to 1100 results in only minor improvements in accuracy, with the most notable gains occurring between 200 and 500 epochs. After 500 epochs, the test accuracy stabilizes. The results suggest that while additional epochs can help improve accuracy to some extent, the impact of noise in the data limits the model's ability to achieve significantly better results. The evidence indicates that merely increasing the number of epochs beyond a certain point does not provide substantial benefits in this high-noise environment.</p>\n",
    "  \n",
    "</div>\n"
   ]
  }
 ],
 "metadata": {
  "kernelspec": {
   "display_name": "Python 3 (ipykernel)",
   "language": "python",
   "name": "python3"
  },
  "language_info": {
   "codemirror_mode": {
    "name": "ipython",
    "version": 3
   },
   "file_extension": ".py",
   "mimetype": "text/x-python",
   "name": "python",
   "nbconvert_exporter": "python",
   "pygments_lexer": "ipython3",
   "version": "3.11.5"
  }
 },
 "nbformat": 4,
 "nbformat_minor": 5
}
