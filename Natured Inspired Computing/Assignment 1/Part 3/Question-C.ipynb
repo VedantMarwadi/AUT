{
 "cells": [
  {
   "cell_type": "markdown",
   "id": "a4141077-0c49-485c-9d37-60d5edb2ecec",
   "metadata": {},
   "source": [
    "  <h1 style=\"color: brown;\">1. Introduction</h1>"
   ]
  },
  {
   "cell_type": "markdown",
   "id": "d065e87d-2570-492a-b905-76b33c3376dc",
   "metadata": {},
   "source": [
    "<div style=\"background-color: #F5F5DC; border: 2px solid #8b4513; padding: 15px; border-radius: 10px; font-family: Arial, sans-serif; box-shadow: 3px 3px 15px rgba(0, 0, 0, 0.1);\">\n",
    "\n",
    "  <p>In neural networks, the number of nodes in the hidden layer is a key factor that affects the model's capacity to learn and generalize. This task investigates whether increasing the number of nodes in the hidden layer improves the accuracy of the worst-performing case from the first experiment, which occurred at a noise standard deviation of 0.5, resulting in a test accuracy of 72%. The experiment explores different numbers of hidden nodes, specifically using variations of 8, 16, 32, 64, 128, and 256 nodes, to determine whether this change can improve the model's ability to handle noisy data.</p>\n",
    "\n",
    "  <p>To support this investigation, the model is trained for 100 epochs, just like in the first experiment, and the results are compared. Any improvements or lack thereof are discussed, along with plausible reasons for the outcomes. The MLP model architecture remains consistent with previous experiments, consisting of a single hidden layer and using the Stochastic Gradient Descent (SGD) optimizer with a learning rate of 0.1. The loss function used is binary cross-entropy with logits (BCEWithLogitsLoss), and the Tanh activation function is applied to the hidden layer. The training dataset consists of 2,500 samples, and the test dataset includes 500 samples.</p>\n",
    "\n",
    "</div>"
   ]
  },
  {
   "cell_type": "markdown",
   "id": "8c2e2f78-a18f-4429-ad01-9a61b973a220",
   "metadata": {},
   "source": [
    "  <h1 style=\"color: brown;\">2. Importing Libraries</h1> "
   ]
  },
  {
   "cell_type": "code",
   "execution_count": 1,
   "id": "168848bf-191a-4226-8837-44a87dd5a1ae",
   "metadata": {},
   "outputs": [
    {
     "data": {
      "text/plain": [
       "<torch._C.Generator at 0x197831c2c30>"
      ]
     },
     "execution_count": 1,
     "metadata": {},
     "output_type": "execute_result"
    }
   ],
   "source": [
    "from tqdm import tqdm  \n",
    "import torch\n",
    "import torch.nn as nn\n",
    "from torch.utils.data import DataLoader\n",
    "import matplotlib.pyplot as plt\n",
    "torch.manual_seed(88)"
   ]
  },
  {
   "cell_type": "markdown",
   "id": "d7e4713f-0c14-4de2-8b6c-b844e81a0d24",
   "metadata": {},
   "source": [
    "  <h1 style=\"color: brown;\">3. XOR Dataset Class Implementation</h1> "
   ]
  },
  {
   "cell_type": "code",
   "execution_count": 2,
   "id": "71155709-3797-4bd9-8268-1b365af673a8",
   "metadata": {},
   "outputs": [],
   "source": [
    "class XOR_Dataset(torch.utils.data.Dataset):\n",
    "    # Defining the constructor of the XOR_Dataset class, which initializes the dataset with a specified size and standard deviation (std).\n",
    "    def __init__(self, size, std=0.5):  # Default std is set to 0.5\n",
    "        # Calling the parent class constructor (from torch.utils.data.Dataset)\n",
    "        super().__init__()\n",
    "        # Storing the dataset size and the noise level (std) as class attributes\n",
    "        self.size = size\n",
    "        self.std = std\n",
    "        # Generating the XOR dataset with continuous noise\n",
    "        self.generate_cont_xor()\n",
    "\n",
    "    # Defining a method to generate the XOR data with added noise\n",
    "    def generate_cont_xor(self):\n",
    "        # Generating random binary pairs (0 or 1) for the dataset, with shape (size, 2)\n",
    "        self.data = torch.randint(low=0, high=2, size=(self.size, 2), dtype=torch.float32)\n",
    "        # Creating XOR labels based on the sum of the binary pairs (XOR logic: sum == 1 is true)\n",
    "        self.label = (self.data.sum(dim=1) == 1).to(torch.float32).unsqueeze(1)\n",
    "        # Adding Gaussian noise to the data points, scaled by the standard deviation (std)\n",
    "        self.data += self.std * torch.randn(self.data.shape)\n",
    "\n",
    "    # Defining a method to return the size of the dataset\n",
    "    def __len__(self):\n",
    "        # Returning the total number of samples in the dataset\n",
    "        return self.size\n",
    "\n",
    "    # Defining a method to retrieve a data sample and its corresponding label by index\n",
    "    def __getitem__(self, idx):\n",
    "        # Returning the data sample at the given index (idx) and its associated label\n",
    "        return self.data[idx], self.label[idx]"
   ]
  },
  {
   "cell_type": "markdown",
   "id": "23c4ca91-65a2-46b0-97e2-3e9d170080f3",
   "metadata": {},
   "source": [
    "  <h1 style=\"color: brown;\">4. XOR Classifier Model Implementation</h1>"
   ]
  },
  {
   "cell_type": "code",
   "execution_count": 3,
   "id": "75de5a92-37af-4304-99be-e3245e4300f1",
   "metadata": {},
   "outputs": [],
   "source": [
    "class XOR_Classifier(nn.Module):\n",
    "    # Defining the constructor of the XOR_Classifier class to initialize the network architecture\n",
    "    def __init__(self, num_inputs, num_hidden, num_outputs):\n",
    "        # Calling the parent class constructor (from nn.Module)\n",
    "        super().__init__()\n",
    "        # Defining the first fully connected layer (linear layer) that maps from the input features to the hidden units\n",
    "        self.linear1 = nn.Linear(num_inputs, num_hidden)  # The number of hidden units is passed dynamically\n",
    "        # Defining the activation function as Tanh, introducing non-linearity between layers\n",
    "        self.activation = nn.Tanh()\n",
    "        # Defining the second fully connected layer (linear layer) that maps from hidden units to the output\n",
    "        self.linear2 = nn.Linear(num_hidden, num_outputs)\n",
    "        \n",
    "    # Defining the forward pass that specifies how data moves through the network\n",
    "    def forward(self, x):\n",
    "        # Passing the input 'x' through the first linear layer\n",
    "        x = self.linear1(x)\n",
    "        # Applying the Tanh activation function on the output of the first layer\n",
    "        x = self.activation(x)\n",
    "        # Passing the result through the second linear layer to produce the final output\n",
    "        return self.linear2(x)"
   ]
  },
  {
   "cell_type": "markdown",
   "id": "5920ad53-00d4-4520-92ea-9c07edc57fc0",
   "metadata": {},
   "source": [
    "  <h1 style=\"color: brown;\">5. XOR Classifier Training and Testing</h1> "
   ]
  },
  {
   "cell_type": "code",
   "execution_count": 4,
   "id": "45544d55-5277-4d54-925a-2dd1b7ad622f",
   "metadata": {},
   "outputs": [],
   "source": [
    "# Defining the function to train the model with different numbers of hidden nodes\n",
    "def train_model_with_varied_hidden_nodes(hidden_node_list, epochs=100):\n",
    "    # Initializing lists to store training and test accuracies for each hidden node configuration\n",
    "    train_accuracies = []\n",
    "    test_accuracies = []\n",
    "    \n",
    "    # Looping through the list of different hidden node values\n",
    "    for hidden_nodes in hidden_node_list:\n",
    "        # Creating training and testing datasets with the default standard deviation (std=0.5)\n",
    "        train_dataset = XOR_Dataset(size=2500)\n",
    "        test_dataset = XOR_Dataset(size=500)\n",
    "        # Creating data loaders to load the dataset in batches\n",
    "        train_loader = DataLoader(train_dataset, batch_size=128, shuffle=True)\n",
    "        test_loader = DataLoader(test_dataset, batch_size=128, shuffle=False)\n",
    "\n",
    "        # Initializing the XOR classifier model with dynamic hidden nodes\n",
    "        model = XOR_Classifier(num_inputs=2, num_hidden=hidden_nodes, num_outputs=1)\n",
    "        # Defining the loss function (binary cross entropy with logits)\n",
    "        loss_module = nn.BCEWithLogitsLoss()\n",
    "        # Defining the optimizer as stochastic gradient descent (SGD) with a learning rate of 0.1\n",
    "        optimizer = torch.optim.SGD(model.parameters(), lr=0.1)\n",
    "\n",
    "        # Entering the training loop for the specified number of epochs\n",
    "        model.train()  # Setting the model to training mode\n",
    "        for epoch in tqdm(range(epochs), desc=f'Training with {hidden_nodes} hidden nodes', leave=True):\n",
    "            # Looping through the training data in batches\n",
    "            for data, label in train_loader:\n",
    "                optimizer.zero_grad()  # Clearing the gradients from the previous step\n",
    "                output = model(data)  # Performing the forward pass through the model\n",
    "                loss = loss_module(output, label)  # Computing the loss\n",
    "                loss.backward()  # Performing backpropagation to calculate gradients\n",
    "                optimizer.step()  # Updating the model's weights\n",
    "\n",
    "        # After training, computing training and testing accuracies\n",
    "        train_acc = compute_accuracy(train_loader, model)  # Calculating training accuracy\n",
    "        test_acc = compute_accuracy(test_loader, model)  # Calculating testing accuracy\n",
    "        \n",
    "        # Storing the accuracy results for each hidden node configuration\n",
    "        train_accuracies.append(train_acc)\n",
    "        test_accuracies.append(test_acc)\n",
    "\n",
    "        # Printing the results for the current hidden node configuration\n",
    "        print(f'Hidden Nodes: {hidden_nodes}, Training Accuracy: {train_acc:.2f}%, Test Accuracy: {test_acc:.2f}%')\n",
    "\n",
    "    # Returning the lists of training and test accuracies\n",
    "    return train_accuracies, test_accuracies\n",
    "\n",
    "# Defining the function to compute accuracy of the model\n",
    "def compute_accuracy(loader, model):\n",
    "    correct = 0  # Initializing counter for correct predictions\n",
    "    total = 0  # Initializing counter for total number of predictions\n",
    "    model.eval()  # Setting the model to evaluation mode (disables gradient computation)\n",
    "    with torch.no_grad():  # Disabling gradient computation for the evaluation process\n",
    "        # Looping through the data in the data loader\n",
    "        for data, label in loader:\n",
    "            output = model(data)  # Performing a forward pass through the model\n",
    "            predicted = (torch.sigmoid(output) > 0.5).float()  # Applying sigmoid and thresholding to get binary predictions\n",
    "            total += label.size(0)  # Adding the batch size to the total number of samples\n",
    "            correct += (predicted == label).sum().item()  # Counting the number of correct predictions\n",
    "    # Returning the accuracy as a percentage\n",
    "    return 100 * correct / total"
   ]
  },
  {
   "cell_type": "code",
   "execution_count": 5,
   "id": "3f4211f6-9899-4899-85b2-bcfa939f4ffc",
   "metadata": {},
   "outputs": [
    {
     "name": "stderr",
     "output_type": "stream",
     "text": [
      "Training with 8 hidden nodes: 100%|██████████████████████████████████████████████████| 100/100 [00:04<00:00, 23.87it/s]\n"
     ]
    },
    {
     "name": "stdout",
     "output_type": "stream",
     "text": [
      "Hidden Nodes: 8, Training Accuracy: 71.92%, Test Accuracy: 75.40%\n"
     ]
    },
    {
     "name": "stderr",
     "output_type": "stream",
     "text": [
      "Training with 16 hidden nodes: 100%|█████████████████████████████████████████████████| 100/100 [00:04<00:00, 24.36it/s]\n"
     ]
    },
    {
     "name": "stdout",
     "output_type": "stream",
     "text": [
      "Hidden Nodes: 16, Training Accuracy: 73.12%, Test Accuracy: 73.80%\n"
     ]
    },
    {
     "name": "stderr",
     "output_type": "stream",
     "text": [
      "Training with 32 hidden nodes: 100%|█████████████████████████████████████████████████| 100/100 [00:03<00:00, 25.13it/s]\n"
     ]
    },
    {
     "name": "stdout",
     "output_type": "stream",
     "text": [
      "Hidden Nodes: 32, Training Accuracy: 72.76%, Test Accuracy: 71.40%\n"
     ]
    },
    {
     "name": "stderr",
     "output_type": "stream",
     "text": [
      "Training with 64 hidden nodes: 100%|█████████████████████████████████████████████████| 100/100 [00:03<00:00, 28.81it/s]\n"
     ]
    },
    {
     "name": "stdout",
     "output_type": "stream",
     "text": [
      "Hidden Nodes: 64, Training Accuracy: 73.12%, Test Accuracy: 71.60%\n"
     ]
    },
    {
     "name": "stderr",
     "output_type": "stream",
     "text": [
      "Training with 128 hidden nodes: 100%|████████████████████████████████████████████████| 100/100 [00:03<00:00, 27.07it/s]\n"
     ]
    },
    {
     "name": "stdout",
     "output_type": "stream",
     "text": [
      "Hidden Nodes: 128, Training Accuracy: 73.56%, Test Accuracy: 75.40%\n"
     ]
    },
    {
     "name": "stderr",
     "output_type": "stream",
     "text": [
      "Training with 256 hidden nodes: 100%|████████████████████████████████████████████████| 100/100 [00:03<00:00, 25.46it/s]"
     ]
    },
    {
     "name": "stdout",
     "output_type": "stream",
     "text": [
      "Hidden Nodes: 256, Training Accuracy: 72.56%, Test Accuracy: 72.80%\n"
     ]
    },
    {
     "name": "stderr",
     "output_type": "stream",
     "text": [
      "\n"
     ]
    }
   ],
   "source": [
    "# List of hidden nodes to experiment with\n",
    "hidden_node_variations = [8, 16, 32, 64, 128, 256]\n",
    "\n",
    "# Running the experiment by training the model with each hidden node configuration\n",
    "# and storing the resulting training and test accuracies\n",
    "train_accuracies, test_accuracies = train_model_with_varied_hidden_nodes(hidden_node_variations)"
   ]
  },
  {
   "cell_type": "markdown",
   "id": "13a01077-7dc1-474a-98af-3ce8547dccb4",
   "metadata": {},
   "source": [
    "  <h1 style=\"color: brown;\">6. Visualization</h1> "
   ]
  },
  {
   "cell_type": "code",
   "execution_count": 6,
   "id": "e6804537-bd9d-4930-a2a1-7d58a66dbdf1",
   "metadata": {
    "scrolled": true
   },
   "outputs": [
    {
     "data": {
      "image/png": "[encoded data removed]",
      "text/plain": [
       "<Figure size 1000x500 with 1 Axes>"
      ]
     },
     "metadata": {},
     "output_type": "display_data"
    }
   ],
   "source": [
    "# Plotting the results for the effect of varying hidden nodes on model accuracy\n",
    "plt.figure(figsize=(10, 5))  # Creating a figure with specified size for better visibility\n",
    "\n",
    "# Plotting training accuracy against the number of hidden nodes\n",
    "plt.plot(hidden_node_variations, train_accuracies, label='Training Accuracy', marker='o')\n",
    "\n",
    "# Plotting test accuracy against the number of hidden nodes\n",
    "plt.plot(hidden_node_variations, test_accuracies, label='Test Accuracy', marker='o')\n",
    "\n",
    "# Adding a title to the plot, indicating the purpose of the experiment\n",
    "plt.title('Effect of Increasing Hidden Nodes on XOR Classification (std=0.5, epochs=100)')\n",
    "\n",
    "# Labeling the x-axis to indicate the number of hidden nodes\n",
    "plt.xlabel('Number of Hidden Nodes')\n",
    "\n",
    "# Labeling the y-axis to indicate the accuracy percentage\n",
    "plt.ylabel('Accuracy (%)')\n",
    "\n",
    "# Adding a legend to differentiate between training and test accuracies\n",
    "plt.legend()\n",
    "\n",
    "# Adding grid lines to make the plot more readable\n",
    "plt.grid(True)\n",
    "\n",
    "# Displaying the plot\n",
    "plt.show()"
   ]
  },
  {
   "cell_type": "markdown",
   "id": "3d6b9c16-00f7-44f8-9487-17bae2114083",
   "metadata": {},
   "source": [
    "  <h1 style=\"color: brown;\">7. Results</h1> "
   ]
  },
  {
   "cell_type": "markdown",
   "id": "ba8188bd-bf1e-4296-889a-fb2b130c9e6f",
   "metadata": {},
   "source": [
    "<div style=\"background-color: #F5F5DC; border: 2px solid #8b4513; padding: 15px; border-radius: 10px; font-family: Arial, sans-serif; box-shadow: 3px 3px 15px rgba(0, 0, 0, 0.1);\">\n",
    "  \n",
    "  <p style=\"font-size: 16px; color: #333;\">The following table summarizes the accuracy results for different configurations of hidden nodes:</p>\n",
    "\n",
    "  <table style=\"width:100%; border-collapse: collapse; margin: 10px 0; font-size: 16px; color: #333;\">\n",
    "    <tr style=\"background-color: #8b4513; color: white;\">\n",
    "      <th style=\"padding: 8px; border: 2px solid black;\">Hidden Nodes</th>\n",
    "      <th style=\"padding: 8px; border: 2px solid black;\">Training Accuracy (%)</th>\n",
    "      <th style=\"padding: 8px; border: 2px solid black;\">Test Accuracy (%)</th>\n",
    "    </tr>\n",
    "    <tr>\n",
    "      <td style=\"padding: 8px; border: 2px solid black; background-color: #F7F0DB;\">8</td>\n",
    "      <td style=\"padding: 8px; border: 2px solid black; background-color: #F7F0DB;\">71.92</td>\n",
    "      <td style=\"padding: 8px; border: 2px solid black; background-color: #F7F0DB;\">75.40</td>\n",
    "    </tr>\n",
    "    <tr>\n",
    "      <td style=\"padding: 8px; border: 2px solid black; background-color: #EADAB8;\">16</td>\n",
    "      <td style=\"padding: 8px; border: 2px solid black; background-color: #EADAB8;\">73.12</td>\n",
    "      <td style=\"padding: 8px; border: 2px solid black; background-color: #EADAB8;\">73.80</td>\n",
    "    </tr>\n",
    "    <tr>\n",
    "      <td style=\"padding: 8px; border: 2px solid black; background-color: #F7F0DB;\">32</td>\n",
    "      <td style=\"padding: 8px; border: 2px solid black; background-color: #F7F0DB;\">72.76</td>\n",
    "      <td style=\"padding: 8px; border: 2px solid black; background-color: #F7F0DB;\">71.40</td>\n",
    "    </tr>\n",
    "    <tr>\n",
    "      <td style=\"padding: 8px; border: 2px solid black; background-color: #EADAB8;\">64</td>\n",
    "      <td style=\"padding: 8px; border: 2px solid black; background-color: #EADAB8;\">73.12</td>\n",
    "      <td style=\"padding: 8px; border: 2px solid black; background-color: #EADAB8;\">71.60</td>\n",
    "    </tr>\n",
    "    <tr>\n",
    "      <td style=\"padding: 8px; border: 2px solid black; background-color: #F7F0DB;\">128</td>\n",
    "      <td style=\"padding: 8px; border: 2px solid black; background-color: #F7F0DB;\">73.56</td>\n",
    "      <td style=\"padding: 8px; border: 2px solid black; background-color: #F7F0DB;\">75.40</td>\n",
    "    </tr>\n",
    "    <tr>\n",
    "      <td style=\"padding: 8px; border: 2px solid black; background-color: #EADAB8;\">256</td>\n",
    "      <td style=\"padding: 8px; border: 2px solid black; background-color: #EADAB8;\">72.56</td>\n",
    "      <td style=\"padding: 8px; border: 2px solid black; background-color: #EADAB8;\">72.80</td>\n",
    "    </tr>\n",
    "  </table>\n",
    "\n",
    "</div>\n"
   ]
  },
  {
   "cell_type": "markdown",
   "id": "9dfc947b-b817-4acc-a54d-7887aefa2beb",
   "metadata": {},
   "source": [
    "<h2 style=\"color: brown;\">7.1 Interpretation of Results</h2>"
   ]
  },
  {
   "cell_type": "markdown",
   "id": "3ed67632-1b0c-4773-af79-589c6641e822",
   "metadata": {},
   "source": [
    "<div style=\"background-color: #F5F5DC; border: 2px solid #8b4513; padding: 15px; border-radius: 10px; font-family: Arial, sans-serif; box-shadow: 3px 3px 15px rgba(0, 0, 0, 0.1);\">\n",
    "  \n",
    "  <p><strong>Performance with 8 Hidden Nodes:</strong></p>\n",
    "  <p>Increasing the number of hidden nodes from 4 to 8 results in a test accuracy of 75.40%, which is an improvement over the 72% test accuracy observed with 4 hidden nodes in the first experiment. This suggests that increasing the number of hidden nodes improves the model's ability to generalize to the test data in this particular noisy XOR setting. The training accuracy remains balanced at 71.92%, indicating that the model is learning well without overfitting.</p>\n",
    "\n",
    "  <p><strong>Performance with 16 Hidden Nodes:</strong></p>\n",
    "  <p>With 16 hidden nodes, the model achieves a test accuracy of 73.80%, which is slightly lower than with 8 hidden nodes but still above the baseline accuracy of 72%. The training accuracy also improves to 73.12%, showing that the model is learning slightly better as the hidden layer size increases. The drop in test accuracy compared to 8 hidden nodes could suggest that the model is beginning to overfit to the training data, as indicated by the increased training accuracy.</p>\n",
    "\n",
    "  <p><strong>Decreasing Accuracy with 32 and 64 Hidden Nodes:</strong></p>\n",
    "  <p>With 32 hidden nodes, the test accuracy drops to 71.40%, which is below the baseline of 72%. This suggests that increasing the number of hidden nodes beyond a certain point does not necessarily improve performance. The training accuracy stabilizes at 72.76%, indicating that the model may be starting to fit the noise in the training data rather than improving generalization. Similarly, with 64 hidden nodes, the test accuracy remains low at 71.60%, while the training accuracy remains relatively unchanged at 73.12%. This shows diminishing returns in both training and test accuracy as the number of hidden nodes increases.</p>\n",
    "\n",
    "  <p><strong>Improvement at 128 Hidden Nodes:</strong></p>\n",
    "  <p>At 128 hidden nodes, the model achieves a test accuracy of 75.40%, matching the best result obtained with 8 hidden nodes. The training accuracy slightly improves to 73.56%, suggesting that the model is benefiting from the additional capacity without overfitting. This configuration appears to balance learning capacity and generalization well in this noisy dataset.</p>\n",
    "\n",
    "  <p><strong>Slight Decrease at 256 Hidden Nodes:</strong></p>\n",
    "  <p>With 256 hidden nodes, the test accuracy decreases to 72.80%, while the training accuracy drops slightly to 72.56%. This suggests that adding too many nodes may cause the model to overfit to the noisy training data, leading to decreased performance on the test data.</p>\n",
    "\n",
    "</div>\n"
   ]
  },
  {
   "cell_type": "markdown",
   "id": "291a82e4-48f6-452c-b013-499d6c204978",
   "metadata": {},
   "source": [
    "<h2 style=\"color: brown;\">7.2 Plausible Reasons for Changes in Accuracy</h2> "
   ]
  },
  {
   "cell_type": "markdown",
   "id": "64a6522f-6f02-45be-a8a2-378164796d36",
   "metadata": {},
   "source": [
    "<div style=\"background-color: #F5F5DC; border: 2px solid #8b4513; padding: 15px; border-radius: 10px; font-family: Arial, sans-serif; box-shadow: 3px 3px 15px rgba(0, 0, 0, 0.1);\">\n",
    "\n",
    "  <p><strong>Model Capacity and Complexity:</strong></p>\n",
    "  <p>Increasing the number of hidden nodes from 8 to 128 initially helps the model by providing it with more capacity to capture the complex patterns in the noisy XOR dataset. However, as the number of nodes increases further (to 32, 64, and 256), the model starts overfitting to the noisy training data, resulting in lower test accuracy.</p>\n",
    "\n",
    "  <p><strong>Effect of Noise on Learning:</strong></p>\n",
    "  <p>The noisy XOR dataset presents a challenge for the model, as the noise blurs the decision boundaries between classes. Adding more hidden nodes initially helps the model manage this complexity, but beyond a certain point, the model begins to overfit to the noise rather than generalize well.</p>\n",
    "\n",
    "  <p><strong>Generalization vs. Overfitting:</strong></p>\n",
    "  <p>The results indicate that there is an optimal range of hidden nodes (around 8 to 128 nodes) where the model is complex enough to handle the noisy data but not so complex that it starts overfitting. The test accuracy reaches its peak at 75.40% with 8 and 128 hidden nodes, suggesting that these configurations strike the best balance between model capacity and generalization. Adding too many nodes (such as 32, 64, and 256) does not provide further benefits and may even harm performance by leading to overfitting.</p\n",
    "\n",
    "</div>\n"
   ]
  },
  {
   "cell_type": "markdown",
   "id": "e3434715-1c4e-447b-8694-9aafbd37b019",
   "metadata": {},
   "source": [
    "<h2 style=\"color: brown;\">8. Conclusion</h1>"
   ]
  },
  {
   "cell_type": "markdown",
   "id": "16df25cf-375b-492d-99d8-97ef5440f38a",
   "metadata": {},
   "source": [
    "<div style=\"background-color: #F5F5DC; border: 2px solid #8b4513; padding: 15px; border-radius: 10px; font-family: Arial, sans-serif; box-shadow: 3px 3px 15px rgba(0, 0, 0, 0.1);\">\n",
    "  <p>In conclusion, increasing the number of hidden nodes in the XOR classifier initially improves both training and test accuracy, particularly noticeable between 8 and 128 nodes. The model performs optimally with 8 and 128 hidden nodes, achieving a test accuracy of 75.40%, which marks a significant improvement over the baseline accuracy of 72% observed with 4 hidden nodes.</p>\n",
    "  <p>However, further increasing the number of nodes beyond 128 leads to diminishing returns and even reduced accuracy due to overfitting. These results suggest that there is an optimal range of hidden nodes for balancing model complexity and generalization. Simply increasing the number of nodes beyond this range does not guarantee better performance, highlighting the importance of strategic layer and neuron configuration in neural network design.</p>\n",
    "\n",
    "</div>\n"
   ]
  }
 ],
 "metadata": {
  "kernelspec": {
   "display_name": "Python 3 (ipykernel)",
   "language": "python",
   "name": "python3"
  },
  "language_info": {
   "codemirror_mode": {
    "name": "ipython",
    "version": 3
   },
   "file_extension": ".py",
   "mimetype": "text/x-python",
   "name": "python",
   "nbconvert_exporter": "python",
   "pygments_lexer": "ipython3",
   "version": "3.11.5"
  }
 },
 "nbformat": 4,
 "nbformat_minor": 5
}
