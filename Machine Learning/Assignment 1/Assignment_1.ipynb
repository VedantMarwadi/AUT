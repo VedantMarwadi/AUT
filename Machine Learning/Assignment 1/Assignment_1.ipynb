{
 "cells": [
  {
   "cell_type": "code",
   "execution_count": 1,
   "id": "94b55a90",
   "metadata": {},
   "outputs": [],
   "source": [
    "import pandas as pd\n",
    "import matplotlib.pyplot as plt\n",
    "import seaborn as sns\n",
    "import numpy as np\n",
    "import warnings\n",
    "import statsmodels.api as sm\n",
    "from sklearn.model_selection import train_test_split\n",
    "from sklearn.linear_model import LinearRegression\n",
    "from sklearn.metrics import mean_absolute_error, r2_score\n",
    "from sklearn.utils import resample\n",
    "from scipy.stats import chi2_contingency\n",
    "from scipy.stats import f_oneway\n",
    "from sklearn.preprocessing import StandardScaler\n",
    "from sklearn.metrics import silhouette_score\n",
    "from sklearn.decomposition import PCA\n",
    "from sklearn.cluster import KMeans\n",
    "from scipy.cluster import hierarchy\n",
    "from sklearn.cluster import AgglomerativeClustering"
   ]
  },
  {
   "cell_type": "markdown",
   "id": "29e31da2",
   "metadata": {},
   "source": [
    "# Question 1 . A"
   ]
  },
  {
   "cell_type": "code",
   "execution_count": 2,
   "id": "367a4f86",
   "metadata": {},
   "outputs": [],
   "source": [
    "NOxEmissions = pd.read_csv('NOxEmissions.csv')"
   ]
  },
  {
   "cell_type": "code",
   "execution_count": 3,
   "id": "63643eea",
   "metadata": {},
   "outputs": [
    {
     "data": {
      "text/html": [
       "<div>\n",
       "<style scoped>\n",
       "    .dataframe tbody tr th:only-of-type {\n",
       "        vertical-align: middle;\n",
       "    }\n",
       "\n",
       "    .dataframe tbody tr th {\n",
       "        vertical-align: top;\n",
       "    }\n",
       "\n",
       "    .dataframe thead th {\n",
       "        text-align: right;\n",
       "    }\n",
       "</style>\n",
       "<table border=\"1\" class=\"dataframe\">\n",
       "  <thead>\n",
       "    <tr style=\"text-align: right;\">\n",
       "      <th></th>\n",
       "      <th>rownames</th>\n",
       "      <th>julday</th>\n",
       "      <th>LNOx</th>\n",
       "      <th>LNOxEm</th>\n",
       "      <th>sqrtWS</th>\n",
       "    </tr>\n",
       "  </thead>\n",
       "  <tbody>\n",
       "    <tr>\n",
       "      <th>0</th>\n",
       "      <td>193</td>\n",
       "      <td>373</td>\n",
       "      <td>4.457250</td>\n",
       "      <td>5.536489</td>\n",
       "      <td>0.856446</td>\n",
       "    </tr>\n",
       "    <tr>\n",
       "      <th>1</th>\n",
       "      <td>194</td>\n",
       "      <td>373</td>\n",
       "      <td>4.151827</td>\n",
       "      <td>5.513000</td>\n",
       "      <td>1.016612</td>\n",
       "    </tr>\n",
       "    <tr>\n",
       "      <th>2</th>\n",
       "      <td>195</td>\n",
       "      <td>373</td>\n",
       "      <td>3.834061</td>\n",
       "      <td>4.886994</td>\n",
       "      <td>1.095445</td>\n",
       "    </tr>\n",
       "  </tbody>\n",
       "</table>\n",
       "</div>"
      ],
      "text/plain": [
       "   rownames  julday      LNOx    LNOxEm    sqrtWS\n",
       "0       193     373  4.457250  5.536489  0.856446\n",
       "1       194     373  4.151827  5.513000  1.016612\n",
       "2       195     373  3.834061  4.886994  1.095445"
      ]
     },
     "execution_count": 3,
     "metadata": {},
     "output_type": "execute_result"
    }
   ],
   "source": [
    "NOxEmissions.head(3)"
   ]
  },
  {
   "cell_type": "code",
   "execution_count": 4,
   "id": "160453b2",
   "metadata": {},
   "outputs": [
    {
     "name": "stdout",
     "output_type": "stream",
     "text": [
      "LNOx      0\n",
      "LNOxEm    0\n",
      "sqrtWS    0\n",
      "dtype: int64\n"
     ]
    }
   ],
   "source": [
    "# it is mentioned in the requirement that the time dependency will be omitted,\n",
    "# therefore droping the julday column. \n",
    "# rownames column is unnecessary hence droping it as well.\n",
    "\n",
    "NOxEmissions = NOxEmissions.drop(columns=['rownames','julday'])\n",
    "\n",
    "# checking if there are any null values\n",
    "\n",
    "null_values = NOxEmissions.isnull().sum()\n",
    "print(null_values)"
   ]
  },
  {
   "cell_type": "code",
   "execution_count": 5,
   "id": "182ebfda",
   "metadata": {},
   "outputs": [
    {
     "name": "stdout",
     "output_type": "stream",
     "text": [
      "No duplicate values found.\n"
     ]
    }
   ],
   "source": [
    "# checking if there are any duplicate values\n",
    "\n",
    "duplicates = NOxEmissions[NOxEmissions.duplicated()]\n",
    "\n",
    "if duplicates.empty:\n",
    "    print(\"No duplicate values found.\")\n",
    "else:\n",
    "    print(\"Duplicate values found:\")\n",
    "    print(duplicates)"
   ]
  },
  {
   "cell_type": "markdown",
   "id": "8d4af969",
   "metadata": {},
   "source": [
    "# Question 1 . B"
   ]
  },
  {
   "cell_type": "code",
   "execution_count": 6,
   "id": "eb4a8077",
   "metadata": {},
   "outputs": [
    {
     "name": "stdout",
     "output_type": "stream",
     "text": [
      "count    8088.000000\n",
      "mean        4.378691\n",
      "std         0.937389\n",
      "min        -0.105361\n",
      "25%         3.891820\n",
      "50%         4.497028\n",
      "75%         5.012134\n",
      "max         6.576121\n",
      "Name: LNOx, dtype: float64\n"
     ]
    }
   ],
   "source": [
    "summary_stats = NOxEmissions['LNOx'].describe()\n",
    "print(summary_stats)"
   ]
  },
  {
   "cell_type": "code",
   "execution_count": 7,
   "id": "98aafdb2",
   "metadata": {},
   "outputs": [
    {
     "data": {
      "image/png": "[encoded data removed]",
      "text/plain": [
       "<Figure size 800x600 with 1 Axes>"
      ]
     },
     "metadata": {},
     "output_type": "display_data"
    }
   ],
   "source": [
    "plt.figure(figsize=(8, 6))\n",
    "sns.histplot(NOxEmissions['LNOx'], kde=True, color='pink')\n",
    "plt.title('Histogram of LNOx')\n",
    "plt.xlabel('LNOx')\n",
    "plt.ylabel('Frequency')\n",
    "plt.show()"
   ]
  },
  {
   "cell_type": "markdown",
   "id": "d5bf7de6",
   "metadata": {},
   "source": [
    "The highest frequency of LNOx values falls within the bin between 4 and 5. This means there are more data points with LNOx values between 4 and 5 than any other range. Moreover, the overall shape of the distribution appears symmetrical, which suggests the data might be normally distributed."
   ]
  },
  {
   "cell_type": "markdown",
   "id": "051f0670",
   "metadata": {},
   "source": [
    "# Question 1 . C"
   ]
  },
  {
   "cell_type": "code",
   "execution_count": 8,
   "id": "85b6ffbe",
   "metadata": {},
   "outputs": [],
   "source": [
    "X = NOxEmissions[['LNOxEm','sqrtWS']]\n",
    "y = NOxEmissions['LNOx']\n",
    "\n",
    "X_train, X_test, y_train, y_test = train_test_split(X, y, test_size = 0.2,\n",
    "                                                    random_state = 0)\n",
    "\n",
    "linear_regressor = LinearRegression()\n",
    "linear_regressor.fit(X_train, y_train)\n",
    "\n",
    "y_pred = linear_regressor.predict(X_test)"
   ]
  },
  {
   "cell_type": "code",
   "execution_count": 9,
   "id": "bcbc7238",
   "metadata": {},
   "outputs": [
    {
     "data": {
      "text/html": [
       "<div>\n",
       "<style scoped>\n",
       "    .dataframe tbody tr th:only-of-type {\n",
       "        vertical-align: middle;\n",
       "    }\n",
       "\n",
       "    .dataframe tbody tr th {\n",
       "        vertical-align: top;\n",
       "    }\n",
       "\n",
       "    .dataframe thead th {\n",
       "        text-align: right;\n",
       "    }\n",
       "</style>\n",
       "<table border=\"1\" class=\"dataframe\">\n",
       "  <thead>\n",
       "    <tr style=\"text-align: right;\">\n",
       "      <th></th>\n",
       "      <th>Actual</th>\n",
       "      <th>Predicted</th>\n",
       "      <th>Difference</th>\n",
       "    </tr>\n",
       "  </thead>\n",
       "  <tbody>\n",
       "    <tr>\n",
       "      <th>4947</th>\n",
       "      <td>4.945919</td>\n",
       "      <td>4.818206</td>\n",
       "      <td>0.127713</td>\n",
       "    </tr>\n",
       "    <tr>\n",
       "      <th>7550</th>\n",
       "      <td>4.951946</td>\n",
       "      <td>5.537413</td>\n",
       "      <td>-0.585466</td>\n",
       "    </tr>\n",
       "    <tr>\n",
       "      <th>4034</th>\n",
       "      <td>4.820282</td>\n",
       "      <td>4.974271</td>\n",
       "      <td>-0.153989</td>\n",
       "    </tr>\n",
       "  </tbody>\n",
       "</table>\n",
       "</div>"
      ],
      "text/plain": [
       "        Actual  Predicted  Difference\n",
       "4947  4.945919   4.818206    0.127713\n",
       "7550  4.951946   5.537413   -0.585466\n",
       "4034  4.820282   4.974271   -0.153989"
      ]
     },
     "execution_count": 9,
     "metadata": {},
     "output_type": "execute_result"
    }
   ],
   "source": [
    "comparison_df = pd.DataFrame({'Actual': y_test, 'Predicted': y_pred})\n",
    "comparison_df['Difference'] = comparison_df['Actual'] - comparison_df['Predicted']\n",
    "comparison_df.head(3)"
   ]
  },
  {
   "cell_type": "code",
   "execution_count": 10,
   "id": "4668541e",
   "metadata": {},
   "outputs": [
    {
     "name": "stdout",
     "output_type": "stream",
     "text": [
      "Mean Absolute Error: 0.42214185121597675\n",
      "R-squared: 0.6864947626244496\n"
     ]
    }
   ],
   "source": [
    "mae = mean_absolute_error(y_test, y_pred)\n",
    "r2 = r2_score(y_test, y_pred)\n",
    "\n",
    "print(\"Mean Absolute Error:\", mae)\n",
    "print(\"R-squared:\", r2)"
   ]
  },
  {
   "cell_type": "markdown",
   "id": "ba528930",
   "metadata": {},
   "source": [
    "On average, the predicted values differ from the actual values by approximately 0.4221. Furethermore, around 68.65% of the variance in the target variable (LNOx) is explained by the features (LNOxEm, sqrtWS) included in the model."
   ]
  },
  {
   "cell_type": "markdown",
   "id": "54c15643",
   "metadata": {},
   "source": [
    "# Question 1 . E"
   ]
  },
  {
   "cell_type": "code",
   "execution_count": 11,
   "id": "a0a6cc44",
   "metadata": {},
   "outputs": [
    {
     "name": "stdout",
     "output_type": "stream",
     "text": [
      "Predicted Nitrogebn Oxides concentration: 4.5457994365992676\n"
     ]
    }
   ],
   "source": [
    "new_data = pd.DataFrame({'LNOxEm': [7.5], 'sqrtWS': [1.3]})\n",
    "predicted_nox_concentration = linear_regressor.predict(new_data)\n",
    "print(\"Predicted Nitrogebn Oxides concentration:\", \n",
    "      predicted_nox_concentration[0])"
   ]
  },
  {
   "cell_type": "markdown",
   "id": "ddce8bb5",
   "metadata": {},
   "source": [
    "When the LNOxEm feature is approximately 7.5 (representing the log of the hourly sum of NOx emissions of cars on the motorway) and the sqrtWS feature is approximately 1.3 (representing the square root of wind speed), the model predicts that the Nitrogen Oxides concentration would be around 4.55 units."
   ]
  },
  {
   "cell_type": "markdown",
   "id": "2de84fdb",
   "metadata": {},
   "source": [
    "# Question 2 . A"
   ]
  },
  {
   "cell_type": "code",
   "execution_count": 12,
   "id": "977cc4ea",
   "metadata": {},
   "outputs": [],
   "source": [
    "nassCDS = pd.read_csv(\"nassCDS.csv\")"
   ]
  },
  {
   "cell_type": "code",
   "execution_count": 13,
   "id": "52c80b97",
   "metadata": {},
   "outputs": [
    {
     "data": {
      "text/html": [
       "<div>\n",
       "<style scoped>\n",
       "    .dataframe tbody tr th:only-of-type {\n",
       "        vertical-align: middle;\n",
       "    }\n",
       "\n",
       "    .dataframe tbody tr th {\n",
       "        vertical-align: top;\n",
       "    }\n",
       "\n",
       "    .dataframe thead th {\n",
       "        text-align: right;\n",
       "    }\n",
       "</style>\n",
       "<table border=\"1\" class=\"dataframe\">\n",
       "  <thead>\n",
       "    <tr style=\"text-align: right;\">\n",
       "      <th></th>\n",
       "      <th>rownames</th>\n",
       "      <th>dvcat</th>\n",
       "      <th>weight</th>\n",
       "      <th>dead</th>\n",
       "      <th>airbag</th>\n",
       "      <th>seatbelt</th>\n",
       "      <th>frontal</th>\n",
       "      <th>sex</th>\n",
       "      <th>ageOFocc</th>\n",
       "      <th>yearacc</th>\n",
       "      <th>yearVeh</th>\n",
       "      <th>abcat</th>\n",
       "      <th>occRole</th>\n",
       "      <th>deploy</th>\n",
       "      <th>injSeverity</th>\n",
       "      <th>caseid</th>\n",
       "    </tr>\n",
       "  </thead>\n",
       "  <tbody>\n",
       "    <tr>\n",
       "      <th>0</th>\n",
       "      <td>1</td>\n",
       "      <td>25-39</td>\n",
       "      <td>25.069</td>\n",
       "      <td>alive</td>\n",
       "      <td>none</td>\n",
       "      <td>belted</td>\n",
       "      <td>1</td>\n",
       "      <td>f</td>\n",
       "      <td>26</td>\n",
       "      <td>1997</td>\n",
       "      <td>1990.0</td>\n",
       "      <td>unavail</td>\n",
       "      <td>driver</td>\n",
       "      <td>0</td>\n",
       "      <td>3.0</td>\n",
       "      <td>2:3:1</td>\n",
       "    </tr>\n",
       "    <tr>\n",
       "      <th>1</th>\n",
       "      <td>2</td>\n",
       "      <td>10-24</td>\n",
       "      <td>25.069</td>\n",
       "      <td>alive</td>\n",
       "      <td>airbag</td>\n",
       "      <td>belted</td>\n",
       "      <td>1</td>\n",
       "      <td>f</td>\n",
       "      <td>72</td>\n",
       "      <td>1997</td>\n",
       "      <td>1995.0</td>\n",
       "      <td>deploy</td>\n",
       "      <td>driver</td>\n",
       "      <td>1</td>\n",
       "      <td>1.0</td>\n",
       "      <td>2:3:2</td>\n",
       "    </tr>\n",
       "    <tr>\n",
       "      <th>2</th>\n",
       "      <td>3</td>\n",
       "      <td>10-24</td>\n",
       "      <td>32.379</td>\n",
       "      <td>alive</td>\n",
       "      <td>none</td>\n",
       "      <td>none</td>\n",
       "      <td>1</td>\n",
       "      <td>f</td>\n",
       "      <td>69</td>\n",
       "      <td>1997</td>\n",
       "      <td>1988.0</td>\n",
       "      <td>unavail</td>\n",
       "      <td>driver</td>\n",
       "      <td>0</td>\n",
       "      <td>4.0</td>\n",
       "      <td>2:5:1</td>\n",
       "    </tr>\n",
       "  </tbody>\n",
       "</table>\n",
       "</div>"
      ],
      "text/plain": [
       "   rownames  dvcat  weight   dead  airbag seatbelt  frontal sex  ageOFocc  \\\n",
       "0         1  25-39  25.069  alive    none   belted        1   f        26   \n",
       "1         2  10-24  25.069  alive  airbag   belted        1   f        72   \n",
       "2         3  10-24  32.379  alive    none     none        1   f        69   \n",
       "\n",
       "   yearacc  yearVeh    abcat occRole  deploy  injSeverity caseid  \n",
       "0     1997   1990.0  unavail  driver       0          3.0  2:3:1  \n",
       "1     1997   1995.0   deploy  driver       1          1.0  2:3:2  \n",
       "2     1997   1988.0  unavail  driver       0          4.0  2:5:1  "
      ]
     },
     "execution_count": 13,
     "metadata": {},
     "output_type": "execute_result"
    }
   ],
   "source": [
    "nassCDS.head(3)"
   ]
  },
  {
   "cell_type": "code",
   "execution_count": 14,
   "id": "70557105",
   "metadata": {},
   "outputs": [
    {
     "name": "stdout",
     "output_type": "stream",
     "text": [
      "True\n"
     ]
    }
   ],
   "source": [
    "# Checking if there are any null values\n",
    "\n",
    "any_null = nassCDS.isnull().any().any()\n",
    "print(any_null)"
   ]
  },
  {
   "cell_type": "code",
   "execution_count": 15,
   "id": "cc50d404",
   "metadata": {},
   "outputs": [],
   "source": [
    "# Dropping all the null values\n",
    "\n",
    "nassCDS.dropna(inplace=True)"
   ]
  },
  {
   "cell_type": "code",
   "execution_count": 16,
   "id": "744aaf87",
   "metadata": {},
   "outputs": [],
   "source": [
    "# Selecting Specific features mentioned in the requirements\n",
    "\n",
    "nassCDS_with_selected_features = nassCDS[['dead','airbag','seatbelt','frontal',\n",
    "                                          'sex','ageOFocc','yearVeh','deploy']]"
   ]
  },
  {
   "cell_type": "code",
   "execution_count": 17,
   "id": "695ae525",
   "metadata": {},
   "outputs": [
    {
     "data": {
      "text/html": [
       "<div>\n",
       "<style scoped>\n",
       "    .dataframe tbody tr th:only-of-type {\n",
       "        vertical-align: middle;\n",
       "    }\n",
       "\n",
       "    .dataframe tbody tr th {\n",
       "        vertical-align: top;\n",
       "    }\n",
       "\n",
       "    .dataframe thead th {\n",
       "        text-align: right;\n",
       "    }\n",
       "</style>\n",
       "<table border=\"1\" class=\"dataframe\">\n",
       "  <thead>\n",
       "    <tr style=\"text-align: right;\">\n",
       "      <th></th>\n",
       "      <th>dead</th>\n",
       "      <th>airbag</th>\n",
       "      <th>seatbelt</th>\n",
       "      <th>frontal</th>\n",
       "      <th>sex</th>\n",
       "      <th>ageOFocc</th>\n",
       "      <th>yearVeh</th>\n",
       "      <th>deploy</th>\n",
       "    </tr>\n",
       "  </thead>\n",
       "  <tbody>\n",
       "    <tr>\n",
       "      <th>0</th>\n",
       "      <td>alive</td>\n",
       "      <td>none</td>\n",
       "      <td>belted</td>\n",
       "      <td>1</td>\n",
       "      <td>f</td>\n",
       "      <td>26</td>\n",
       "      <td>1990.0</td>\n",
       "      <td>0</td>\n",
       "    </tr>\n",
       "    <tr>\n",
       "      <th>1</th>\n",
       "      <td>alive</td>\n",
       "      <td>airbag</td>\n",
       "      <td>belted</td>\n",
       "      <td>1</td>\n",
       "      <td>f</td>\n",
       "      <td>72</td>\n",
       "      <td>1995.0</td>\n",
       "      <td>1</td>\n",
       "    </tr>\n",
       "    <tr>\n",
       "      <th>2</th>\n",
       "      <td>alive</td>\n",
       "      <td>none</td>\n",
       "      <td>none</td>\n",
       "      <td>1</td>\n",
       "      <td>f</td>\n",
       "      <td>69</td>\n",
       "      <td>1988.0</td>\n",
       "      <td>0</td>\n",
       "    </tr>\n",
       "  </tbody>\n",
       "</table>\n",
       "</div>"
      ],
      "text/plain": [
       "    dead  airbag seatbelt  frontal sex  ageOFocc  yearVeh  deploy\n",
       "0  alive    none   belted        1   f        26   1990.0       0\n",
       "1  alive  airbag   belted        1   f        72   1995.0       1\n",
       "2  alive    none     none        1   f        69   1988.0       0"
      ]
     },
     "execution_count": 17,
     "metadata": {},
     "output_type": "execute_result"
    }
   ],
   "source": [
    "nassCDS_with_selected_features.head(3)"
   ]
  },
  {
   "cell_type": "code",
   "execution_count": 18,
   "id": "ff128d4f",
   "metadata": {},
   "outputs": [],
   "source": [
    "# Converting categorical variables into appropriate dummy variables where,\n",
    "# dead_dead = 0 if alive; 1 if dead\n",
    "# sex_m = 0 if female; 1 if male\n",
    "# seatbelt_none = 0 if belted; 1 if none\n",
    "# airbag_none = 0 if airbag ; 1 if none\n",
    "\n",
    "data = pd.get_dummies(nassCDS_with_selected_features, \n",
    "                      columns=[\"dead\", \"sex\", \"seatbelt\", \"airbag\"], \n",
    "                      drop_first=True, dtype=int)"
   ]
  },
  {
   "cell_type": "code",
   "execution_count": 19,
   "id": "95055343",
   "metadata": {},
   "outputs": [
    {
     "data": {
      "text/html": [
       "<div>\n",
       "<style scoped>\n",
       "    .dataframe tbody tr th:only-of-type {\n",
       "        vertical-align: middle;\n",
       "    }\n",
       "\n",
       "    .dataframe tbody tr th {\n",
       "        vertical-align: top;\n",
       "    }\n",
       "\n",
       "    .dataframe thead th {\n",
       "        text-align: right;\n",
       "    }\n",
       "</style>\n",
       "<table border=\"1\" class=\"dataframe\">\n",
       "  <thead>\n",
       "    <tr style=\"text-align: right;\">\n",
       "      <th></th>\n",
       "      <th>frontal</th>\n",
       "      <th>ageOFocc</th>\n",
       "      <th>yearVeh</th>\n",
       "      <th>deploy</th>\n",
       "      <th>dead_dead</th>\n",
       "      <th>sex_m</th>\n",
       "      <th>seatbelt_none</th>\n",
       "      <th>airbag_none</th>\n",
       "    </tr>\n",
       "  </thead>\n",
       "  <tbody>\n",
       "    <tr>\n",
       "      <th>0</th>\n",
       "      <td>1</td>\n",
       "      <td>26</td>\n",
       "      <td>1990.0</td>\n",
       "      <td>0</td>\n",
       "      <td>0</td>\n",
       "      <td>0</td>\n",
       "      <td>0</td>\n",
       "      <td>1</td>\n",
       "    </tr>\n",
       "    <tr>\n",
       "      <th>1</th>\n",
       "      <td>1</td>\n",
       "      <td>72</td>\n",
       "      <td>1995.0</td>\n",
       "      <td>1</td>\n",
       "      <td>0</td>\n",
       "      <td>0</td>\n",
       "      <td>0</td>\n",
       "      <td>0</td>\n",
       "    </tr>\n",
       "    <tr>\n",
       "      <th>2</th>\n",
       "      <td>1</td>\n",
       "      <td>69</td>\n",
       "      <td>1988.0</td>\n",
       "      <td>0</td>\n",
       "      <td>0</td>\n",
       "      <td>0</td>\n",
       "      <td>1</td>\n",
       "      <td>1</td>\n",
       "    </tr>\n",
       "  </tbody>\n",
       "</table>\n",
       "</div>"
      ],
      "text/plain": [
       "   frontal  ageOFocc  yearVeh  deploy  dead_dead  sex_m  seatbelt_none  \\\n",
       "0        1        26   1990.0       0          0      0              0   \n",
       "1        1        72   1995.0       1          0      0              0   \n",
       "2        1        69   1988.0       0          0      0              1   \n",
       "\n",
       "   airbag_none  \n",
       "0            1  \n",
       "1            0  \n",
       "2            1  "
      ]
     },
     "execution_count": 19,
     "metadata": {},
     "output_type": "execute_result"
    }
   ],
   "source": [
    "data.head(3)"
   ]
  },
  {
   "cell_type": "markdown",
   "id": "ab7699f1",
   "metadata": {},
   "source": [
    "# Question 2 . B"
   ]
  },
  {
   "cell_type": "code",
   "execution_count": 20,
   "id": "15974d4f",
   "metadata": {},
   "outputs": [
    {
     "name": "stdout",
     "output_type": "stream",
     "text": [
      "dead      alive  dead\n",
      "seatbelt             \n",
      "belted    17965   500\n",
      "none       6918   680\n"
     ]
    }
   ],
   "source": [
    "# H0: The use of seat belts is independent of whether \n",
    "# the passenger survives or not.\n",
    "# H1: The use of seat belts is not independent of whether \n",
    "# the passenger survives or not.\n",
    "\n",
    "contingency_table = pd.crosstab(nassCDS_with_selected_features['seatbelt'],\n",
    "                                nassCDS_with_selected_features['dead'])\n",
    "print(contingency_table)"
   ]
  },
  {
   "cell_type": "code",
   "execution_count": 21,
   "id": "4b9d2e2e",
   "metadata": {},
   "outputs": [
    {
     "name": "stdout",
     "output_type": "stream",
     "text": [
      "p-value: 3.2511305843401275e-107\n",
      "There is evidence to reject the null hypothesis.\n"
     ]
    }
   ],
   "source": [
    "chi2, p, dof, expected = chi2_contingency(contingency_table)\n",
    "print(\"p-value:\", p)\n",
    "\n",
    "if p < 0.05:\n",
    "    print(\"There is evidence to reject the null hypothesis.\")\n",
    "else:\n",
    "    print(\"There is no evidence to reject the null hypothesis.\")"
   ]
  },
  {
   "cell_type": "markdown",
   "id": "fd95d4b3",
   "metadata": {},
   "source": [
    "Given such a small p-value, we would reject the null hypothesis H0 in favor of the alternative hypothesis H1. Therefore, we have strong evidence to conclude that the use of seat belts is not independent of whether the passenger survives or not. In other words, there is a statistically significant relationship between the use of seat belts and survival."
   ]
  },
  {
   "cell_type": "markdown",
   "id": "e86206a6",
   "metadata": {},
   "source": [
    "# Question 2 . C"
   ]
  },
  {
   "cell_type": "code",
   "execution_count": 22,
   "id": "3c0a833c",
   "metadata": {},
   "outputs": [
    {
     "name": "stdout",
     "output_type": "stream",
     "text": [
      "F-statistic: 78.26858783063506\n",
      "p-value: 4.1325230342567886e-66\n",
      "There is a statistically significant difference in mean age across injury severity groups.\n"
     ]
    }
   ],
   "source": [
    "# H0: There is no difference in mean age across\n",
    "# the different injury severity groups.\n",
    "# H1: There is a difference in mean age across \n",
    "# the different injury severity groups.\n",
    "\n",
    "f_statistic, p_value = f_oneway(nassCDS[nassCDS['injSeverity'] == 0]\n",
    "                                ['ageOFocc'],\n",
    "                                 nassCDS[nassCDS['injSeverity'] == 1]\n",
    "                                ['ageOFocc'],\n",
    "                                 nassCDS[nassCDS['injSeverity'] == 2]\n",
    "                                ['ageOFocc'],\n",
    "                                 nassCDS[nassCDS['injSeverity'] == 3]\n",
    "                                ['ageOFocc'],\n",
    "                                 nassCDS[nassCDS['injSeverity'] == 4]\n",
    "                                ['ageOFocc'])\n",
    "\n",
    "print(\"F-statistic:\", f_statistic)\n",
    "print(\"p-value:\", p_value)\n",
    "\n",
    "if p_value < 0.05:\n",
    "    print(\"There is a statistically significant difference in mean age across injury severity groups.\")\n",
    "else:\n",
    "    print(\"There is no statistically significant difference in mean age across injury severity groups.\")"
   ]
  },
  {
   "cell_type": "markdown",
   "id": "5d0fde90",
   "metadata": {},
   "source": [
    "Given such a small p-value, we would reject the null hypothesis H0 in favor of the alternative hypothesis H1. Therefore, we have strong evidence to conclude that there is a statistically significant difference in mean age across the different injury severity groups."
   ]
  },
  {
   "cell_type": "markdown",
   "id": "1cad4751",
   "metadata": {},
   "source": [
    "# Question 2 . D"
   ]
  },
  {
   "cell_type": "code",
   "execution_count": 23,
   "id": "ffa71bb0",
   "metadata": {},
   "outputs": [
    {
     "name": "stdout",
     "output_type": "stream",
     "text": [
      "dead_dead\n",
      "0    24883\n",
      "1     1180\n",
      "Name: dead_dead, dtype: int64\n",
      "Percentage of 0s: 95.47250892069216\n",
      "Percentage of 1s: 4.527491079307831\n"
     ]
    }
   ],
   "source": [
    "#Before fitting the data into the model, checking if the data is unbalanced\n",
    "\n",
    "response_count = data.groupby(\"dead_dead\")[\"dead_dead\"].count()\n",
    "print(response_count);\n",
    "print(\"Percentage of 0s:\", 100*response_count[0]/np.sum(response_count))\n",
    "print(\"Percentage of 1s:\", 100*response_count[1]/np.sum(response_count))"
   ]
  },
  {
   "cell_type": "code",
   "execution_count": 24,
   "id": "21916cd1",
   "metadata": {},
   "outputs": [],
   "source": [
    "# Note that if we train the model with this data set, \n",
    "# the model could just predict any response\n",
    "# Therefore, using oversampling to balance the data\n",
    "\n",
    "data_minority = data[(data['dead_dead']==1)]\n",
    "data_majority = data[(data['dead_dead']==0)] \n",
    "data_minority_upsampled = resample(data_minority, \n",
    "                                 replace=True,     \n",
    "                                 n_samples= response_count[0], \n",
    "                                 random_state=123);  \n",
    "data_minority_upsampled.reset_index(drop=True, inplace=True)\n",
    "\n",
    "data_upsampled = pd.concat([data_minority_upsampled, data_majority])"
   ]
  },
  {
   "cell_type": "code",
   "execution_count": 25,
   "id": "c7dcf4c3",
   "metadata": {},
   "outputs": [
    {
     "name": "stdout",
     "output_type": "stream",
     "text": [
      "dead_dead\n",
      "0    24883\n",
      "1    24883\n",
      "Name: dead_dead, dtype: int64\n",
      "Percentage of 0s: 50.0\n",
      "Percentage of 1s: 50.0\n"
     ]
    }
   ],
   "source": [
    "response_count = data_upsampled.groupby(\"dead_dead\")[\"dead_dead\"].count();\n",
    "print(response_count);\n",
    "print(\"Percentage of 0s:\", 100*response_count[0]/np.sum(response_count));\n",
    "print(\"Percentage of 1s:\", 100*response_count[1]/np.sum(response_count));"
   ]
  },
  {
   "cell_type": "code",
   "execution_count": 26,
   "id": "fb7ea2aa",
   "metadata": {},
   "outputs": [
    {
     "name": "stdout",
     "output_type": "stream",
     "text": [
      "Accuracy: 0.6757535164099129\n",
      "                 Generalized Linear Model Regression Results                  \n",
      "==============================================================================\n",
      "Dep. Variable:              dead_dead   No. Observations:                57954\n",
      "Model:                            GLM   Df Residuals:                    57946\n",
      "Model Family:                Binomial   Df Model:                            7\n",
      "Link Function:                  Logit   Scale:                          1.0000\n",
      "Method:                          IRLS   Log-Likelihood:                -39929.\n",
      "Date:                Fri, 05 Apr 2024   Deviance:                       79857.\n",
      "Time:                        13:57:05   Pearson chi2:                 5.80e+04\n",
      "No. Iterations:                     4   Pseudo R-squ. (CS):           0.008314\n",
      "Covariance Type:            nonrobust                                         \n",
      "=================================================================================\n",
      "                    coef    std err          z      P>|z|      [0.025      0.975]\n",
      "---------------------------------------------------------------------------------\n",
      "Intercept         1.2022      4.306      0.279      0.780      -7.238       9.642\n",
      "airbag_none       0.1717      0.031      5.612      0.000       0.112       0.232\n",
      "seatbelt_none     0.2430      0.017     13.970      0.000       0.209       0.277\n",
      "frontal          -0.1773      0.018     -9.992      0.000      -0.212      -0.143\n",
      "sex_m             0.0477      0.017      2.776      0.006       0.014       0.081\n",
      "ageOFocc          0.0049      0.000     11.499      0.000       0.004       0.006\n",
      "yearVeh          -0.0008      0.002     -0.363      0.717      -0.005       0.003\n",
      "deploy            0.1305      0.026      4.959      0.000       0.079       0.182\n",
      "=================================================================================\n"
     ]
    }
   ],
   "source": [
    "X = data_upsampled[['airbag_none', 'seatbelt_none', 'frontal', \n",
    "                    'sex_m', 'ageOFocc', 'yearVeh', 'deploy']]\n",
    "y = data_upsampled['dead_dead']\n",
    "\n",
    "X_train, X_test, y_train, y_test = train_test_split(X, y, test_size=0.3,\n",
    "                                                    random_state=42)\n",
    "\n",
    "formula = \"dead_dead ~ \" + \" + \".join(X_train.columns)\n",
    "model = sm.GLM.from_formula(formula=formula, family=sm.families.Binomial(),\n",
    "                            data=X_train.join(y_train))\n",
    "result = model.fit()\n",
    "\n",
    "y_pred_prob = result.predict(X_test)\n",
    "\n",
    "y_pred_class = np.round(y_pred_prob).astype(int)\n",
    "\n",
    "accuracy = (y_pred_class == y_test).mean()\n",
    "print(\"Accuracy:\", accuracy)\n",
    "print(result.summary())"
   ]
  },
  {
   "cell_type": "markdown",
   "id": "30c673b1",
   "metadata": {},
   "source": [
    "The model achieved an accuracy of approximately 67.6%, which means that it correctly predicted the outcome (whether a person survived or not) for about 67.6% of the cases in the test dataset.\n",
    "\n",
    "When interpreting the coefficients:\n",
    "- Positive coefficients for `airbag_none`, `seatbelt_none`, `sex_m`, `ageOFocc`, and `deploy` suggest that an increase in the corresponding predictor is associated with a higher likelihood of the person being dead.\n",
    "- Negative coefficient for `frontal` suggests that a frontal impact is associated with a lower likelihood of the person being dead."
   ]
  },
  {
   "cell_type": "markdown",
   "id": "7b34328b",
   "metadata": {},
   "source": [
    "# Queston 2 . E"
   ]
  },
  {
   "cell_type": "markdown",
   "id": "adab2cb6",
   "metadata": {},
   "source": [
    "1. **Seatbelt**:\n",
    "   - The parameter associated with `seatbelt_none` is 0.2430.\n",
    "   - This positive parameter suggests that not wearing a seatbelt is associated with a higher likelihood of a person being dead in a car crash.\n",
    "   - In simpler terms, individuals who do not wear seatbelts are more likely to experience fatal outcomes in car accidents compared to those who wear seatbelts.\n",
    "   - The coefficient has a p-value < 0.05, indicating statistical significance. This implies that the relationship between seatbelt usage and the outcome variable is likely not due to random chance.\n",
    "\n",
    "2. **Age**:\n",
    "   - The parameter associated with `ageOFocc` is 0.0049.\n",
    "   - This positive parameter suggests that an increase in age is associated with a higher likelihood of a person being dead in a car crash.\n",
    "   - In other words, as individuals get older, their risk of experiencing fatal outcomes in car accidents tends to increase.\n",
    "   - The coefficient has a p-value < 0.05, indicating statistical significance. This suggests that the relationship between the age of the occupant and the outcome variable is likely not due to random chance.\n",
    "   "
   ]
  },
  {
   "cell_type": "markdown",
   "id": "086919de",
   "metadata": {},
   "source": [
    "# Question 2 . F"
   ]
  },
  {
   "cell_type": "markdown",
   "id": "4b8b1c5d",
   "metadata": {},
   "source": [
    "## 1. "
   ]
  },
  {
   "cell_type": "code",
   "execution_count": 27,
   "id": "d3c7a0d8",
   "metadata": {},
   "outputs": [
    {
     "name": "stdout",
     "output_type": "stream",
     "text": [
      "Odds of not surviving: 5.930978661940637\n"
     ]
    }
   ],
   "source": [
    "new_data_1 = pd.DataFrame({'airbag_none': [1], 'seatbelt_none': [1], \n",
    "                           'frontal': [1], 'sex_m': [0], \n",
    "                           'ageOFocc': [70], 'yearVeh': [0],\n",
    "                           'deploy': [0]})\n",
    "\n",
    "predicted_prob_not_surviving = result.predict(new_data_1)\n",
    "\n",
    "# Converting probabilities to odds\n",
    "\n",
    "odds_not_surviving = predicted_prob_not_surviving / (1 - predicted_prob_not_surviving)\n",
    "\n",
    "print(\"Odds of not surviving:\", odds_not_surviving.values[0])"
   ]
  },
  {
   "cell_type": "markdown",
   "id": "7152d0e1",
   "metadata": {},
   "source": [
    "A predicted odds of not surviving of approximately 5.93 means that, according to the logistic regression model, the likelihood of not surviving in the described scenario is approximately 5.93 times higher compared to the likelihood of surviving. In other words, if we assume that the odds of surviving are 1, then the odds of not surviving would be approximately 5.93."
   ]
  },
  {
   "cell_type": "markdown",
   "id": "e9f87489",
   "metadata": {},
   "source": [
    "## 2"
   ]
  },
  {
   "cell_type": "code",
   "execution_count": 28,
   "id": "e13894b8",
   "metadata": {},
   "outputs": [
    {
     "name": "stdout",
     "output_type": "stream",
     "text": [
      "Odds of not surviving: 4.463690234914121\n"
     ]
    }
   ],
   "source": [
    "new_data_2 = pd.DataFrame({'airbag_none': [0], 'seatbelt_none': [0], \n",
    "                           'frontal': [1], 'sex_m': [0], \n",
    "                           'ageOFocc': [70], 'yearVeh': [0],\n",
    "                           'deploy': [1]})\n",
    "\n",
    "predicted_prob_not_surviving = result.predict(new_data_2)\n",
    "\n",
    "# Converting probabilities to odds\n",
    "\n",
    "odds_not_surviving = predicted_prob_not_surviving / (1 - predicted_prob_not_surviving)\n",
    "\n",
    "print(\"Odds of not surviving:\", odds_not_surviving.values[0])"
   ]
  },
  {
   "cell_type": "markdown",
   "id": "1815b1a7",
   "metadata": {},
   "source": [
    "# Question 3 . A"
   ]
  },
  {
   "cell_type": "code",
   "execution_count": 29,
   "id": "1a0e5376",
   "metadata": {},
   "outputs": [],
   "source": [
    "data_q3 = pd.read_excel(\"data_q3.xlsx\")"
   ]
  },
  {
   "cell_type": "code",
   "execution_count": 30,
   "id": "22f5ca95",
   "metadata": {},
   "outputs": [
    {
     "data": {
      "text/html": [
       "<div>\n",
       "<style scoped>\n",
       "    .dataframe tbody tr th:only-of-type {\n",
       "        vertical-align: middle;\n",
       "    }\n",
       "\n",
       "    .dataframe tbody tr th {\n",
       "        vertical-align: top;\n",
       "    }\n",
       "\n",
       "    .dataframe thead th {\n",
       "        text-align: right;\n",
       "    }\n",
       "</style>\n",
       "<table border=\"1\" class=\"dataframe\">\n",
       "  <thead>\n",
       "    <tr style=\"text-align: right;\">\n",
       "      <th></th>\n",
       "      <th>country_x</th>\n",
       "      <th>code</th>\n",
       "      <th>Tertiary Percentage</th>\n",
       "      <th>ISCED5 Percentage</th>\n",
       "      <th>ISCED6 Percentage</th>\n",
       "      <th>ISCED7 Percentage</th>\n",
       "      <th>ISCED8 Percentage</th>\n",
       "      <th>country_y</th>\n",
       "      <th>year</th>\n",
       "      <th>InternationalStudentsNO</th>\n",
       "      <th>...</th>\n",
       "      <th>KOFFiGIdf</th>\n",
       "      <th>KOFFiGIdj</th>\n",
       "      <th>KOFSoGI_WithoutInterpersonal</th>\n",
       "      <th>InboundRatio</th>\n",
       "      <th>top_50_count</th>\n",
       "      <th>top_100_count</th>\n",
       "      <th>top_500_count</th>\n",
       "      <th>top_1000_count</th>\n",
       "      <th>total_ranked_universities</th>\n",
       "      <th>WESP</th>\n",
       "    </tr>\n",
       "  </thead>\n",
       "  <tbody>\n",
       "    <tr>\n",
       "      <th>0</th>\n",
       "      <td>Argentina</td>\n",
       "      <td>ARG</td>\n",
       "      <td>95.447912</td>\n",
       "      <td>18.103877</td>\n",
       "      <td>68.238077</td>\n",
       "      <td>8.368618</td>\n",
       "      <td>0.737339</td>\n",
       "      <td>Argentina</td>\n",
       "      <td>2019</td>\n",
       "      <td>116330</td>\n",
       "      <td>...</td>\n",
       "      <td>65</td>\n",
       "      <td>55</td>\n",
       "      <td>78.0</td>\n",
       "      <td>3.50011</td>\n",
       "      <td>0</td>\n",
       "      <td>1</td>\n",
       "      <td>5</td>\n",
       "      <td>15</td>\n",
       "      <td>15</td>\n",
       "      <td>Developing</td>\n",
       "    </tr>\n",
       "    <tr>\n",
       "      <th>1</th>\n",
       "      <td>Australia</td>\n",
       "      <td>AUS</td>\n",
       "      <td>115.952037</td>\n",
       "      <td>25.407825</td>\n",
       "      <td>65.591820</td>\n",
       "      <td>21.327540</td>\n",
       "      <td>3.624852</td>\n",
       "      <td>Australia</td>\n",
       "      <td>2019</td>\n",
       "      <td>509160</td>\n",
       "      <td>...</td>\n",
       "      <td>81</td>\n",
       "      <td>75</td>\n",
       "      <td>94.5</td>\n",
       "      <td>28.37490</td>\n",
       "      <td>5</td>\n",
       "      <td>7</td>\n",
       "      <td>25</td>\n",
       "      <td>37</td>\n",
       "      <td>37</td>\n",
       "      <td>Developed</td>\n",
       "    </tr>\n",
       "    <tr>\n",
       "      <th>2</th>\n",
       "      <td>Austria</td>\n",
       "      <td>AUT</td>\n",
       "      <td>86.475597</td>\n",
       "      <td>15.080255</td>\n",
       "      <td>40.310180</td>\n",
       "      <td>27.126033</td>\n",
       "      <td>3.959066</td>\n",
       "      <td>Austria</td>\n",
       "      <td>2019</td>\n",
       "      <td>74631</td>\n",
       "      <td>...</td>\n",
       "      <td>89</td>\n",
       "      <td>80</td>\n",
       "      <td>90.5</td>\n",
       "      <td>17.64123</td>\n",
       "      <td>0</td>\n",
       "      <td>0</td>\n",
       "      <td>5</td>\n",
       "      <td>8</td>\n",
       "      <td>8</td>\n",
       "      <td>Developed</td>\n",
       "    </tr>\n",
       "  </tbody>\n",
       "</table>\n",
       "<p>3 rows × 45 columns</p>\n",
       "</div>"
      ],
      "text/plain": [
       "   country_x code  Tertiary Percentage  ISCED5 Percentage  ISCED6 Percentage  \\\n",
       "0  Argentina  ARG            95.447912          18.103877          68.238077   \n",
       "1  Australia  AUS           115.952037          25.407825          65.591820   \n",
       "2    Austria  AUT            86.475597          15.080255          40.310180   \n",
       "\n",
       "   ISCED7 Percentage  ISCED8 Percentage  country_y  year  \\\n",
       "0           8.368618           0.737339  Argentina  2019   \n",
       "1          21.327540           3.624852  Australia  2019   \n",
       "2          27.126033           3.959066    Austria  2019   \n",
       "\n",
       "   InternationalStudentsNO  ...  KOFFiGIdf  KOFFiGIdj  \\\n",
       "0                   116330  ...         65         55   \n",
       "1                   509160  ...         81         75   \n",
       "2                    74631  ...         89         80   \n",
       "\n",
       "   KOFSoGI_WithoutInterpersonal  InboundRatio  top_50_count  top_100_count  \\\n",
       "0                          78.0       3.50011             0              1   \n",
       "1                          94.5      28.37490             5              7   \n",
       "2                          90.5      17.64123             0              0   \n",
       "\n",
       "   top_500_count  top_1000_count  total_ranked_universities        WESP  \n",
       "0              5              15                         15  Developing  \n",
       "1             25              37                         37   Developed  \n",
       "2              5               8                          8   Developed  \n",
       "\n",
       "[3 rows x 45 columns]"
      ]
     },
     "execution_count": 30,
     "metadata": {},
     "output_type": "execute_result"
    }
   ],
   "source": [
    "data_q3.head(3)"
   ]
  },
  {
   "cell_type": "code",
   "execution_count": 44,
   "id": "d4a004da",
   "metadata": {},
   "outputs": [
    {
     "data": {
      "text/html": [
       "<div>\n",
       "<style scoped>\n",
       "    .dataframe tbody tr th:only-of-type {\n",
       "        vertical-align: middle;\n",
       "    }\n",
       "\n",
       "    .dataframe tbody tr th {\n",
       "        vertical-align: top;\n",
       "    }\n",
       "\n",
       "    .dataframe thead th {\n",
       "        text-align: right;\n",
       "    }\n",
       "</style>\n",
       "<table border=\"1\" class=\"dataframe\">\n",
       "  <thead>\n",
       "    <tr style=\"text-align: right;\">\n",
       "      <th></th>\n",
       "      <th>InboundRatio</th>\n",
       "      <th>InternationalStudentsNO</th>\n",
       "      <th>KOFPoGI</th>\n",
       "      <th>KOFEcGI</th>\n",
       "      <th>KOFSoGI</th>\n",
       "      <th>ISCED5 Percentage</th>\n",
       "      <th>ISCED6 Percentage</th>\n",
       "      <th>ISCED7 Percentage</th>\n",
       "      <th>ISCED8 Percentage</th>\n",
       "      <th>top_50_count</th>\n",
       "      <th>top_100_count</th>\n",
       "      <th>top_500_count</th>\n",
       "      <th>top_1000_count</th>\n",
       "      <th>WESP</th>\n",
       "      <th>country_x</th>\n",
       "    </tr>\n",
       "  </thead>\n",
       "  <tbody>\n",
       "    <tr>\n",
       "      <th>0</th>\n",
       "      <td>3.50011</td>\n",
       "      <td>116330</td>\n",
       "      <td>91</td>\n",
       "      <td>48</td>\n",
       "      <td>72</td>\n",
       "      <td>18.103877</td>\n",
       "      <td>68.238077</td>\n",
       "      <td>8.368618</td>\n",
       "      <td>0.737339</td>\n",
       "      <td>0</td>\n",
       "      <td>1</td>\n",
       "      <td>5</td>\n",
       "      <td>15</td>\n",
       "      <td>Developing</td>\n",
       "      <td>Argentina</td>\n",
       "    </tr>\n",
       "    <tr>\n",
       "      <th>1</th>\n",
       "      <td>28.37490</td>\n",
       "      <td>509160</td>\n",
       "      <td>88</td>\n",
       "      <td>68</td>\n",
       "      <td>88</td>\n",
       "      <td>25.407825</td>\n",
       "      <td>65.591820</td>\n",
       "      <td>21.327540</td>\n",
       "      <td>3.624852</td>\n",
       "      <td>5</td>\n",
       "      <td>7</td>\n",
       "      <td>25</td>\n",
       "      <td>37</td>\n",
       "      <td>Developed</td>\n",
       "      <td>Australia</td>\n",
       "    </tr>\n",
       "    <tr>\n",
       "      <th>2</th>\n",
       "      <td>17.64123</td>\n",
       "      <td>74631</td>\n",
       "      <td>95</td>\n",
       "      <td>83</td>\n",
       "      <td>88</td>\n",
       "      <td>15.080255</td>\n",
       "      <td>40.310180</td>\n",
       "      <td>27.126033</td>\n",
       "      <td>3.959066</td>\n",
       "      <td>0</td>\n",
       "      <td>0</td>\n",
       "      <td>5</td>\n",
       "      <td>8</td>\n",
       "      <td>Developed</td>\n",
       "      <td>Austria</td>\n",
       "    </tr>\n",
       "  </tbody>\n",
       "</table>\n",
       "</div>"
      ],
      "text/plain": [
       "   InboundRatio  InternationalStudentsNO  KOFPoGI  KOFEcGI  KOFSoGI  \\\n",
       "0       3.50011                   116330       91       48       72   \n",
       "1      28.37490                   509160       88       68       88   \n",
       "2      17.64123                    74631       95       83       88   \n",
       "\n",
       "   ISCED5 Percentage  ISCED6 Percentage  ISCED7 Percentage  ISCED8 Percentage  \\\n",
       "0          18.103877          68.238077           8.368618           0.737339   \n",
       "1          25.407825          65.591820          21.327540           3.624852   \n",
       "2          15.080255          40.310180          27.126033           3.959066   \n",
       "\n",
       "   top_50_count  top_100_count  top_500_count  top_1000_count        WESP  \\\n",
       "0             0              1              5              15  Developing   \n",
       "1             5              7             25              37   Developed   \n",
       "2             0              0              5               8   Developed   \n",
       "\n",
       "   country_x  \n",
       "0  Argentina  \n",
       "1  Australia  \n",
       "2    Austria  "
      ]
     },
     "execution_count": 44,
     "metadata": {},
     "output_type": "execute_result"
    }
   ],
   "source": [
    "#selecting specific features mentioned in the requirements\n",
    "\n",
    "variables = ['InboundRatio', 'InternationalStudentsNO', 'KOFPoGI', 'KOFEcGI',\n",
    "             'KOFSoGI','ISCED5 Percentage', 'ISCED6 Percentage', \n",
    "             'ISCED7 Percentage', 'ISCED8 Percentage',\n",
    "             'top_50_count', 'top_100_count', 'top_500_count',\n",
    "             'top_1000_count', 'WESP', 'country_x']\n",
    "\n",
    "data_q3 = data_q3[variables].copy()\n",
    "\n",
    "data_q3.head(3)"
   ]
  },
  {
   "cell_type": "code",
   "execution_count": 32,
   "id": "0667f032",
   "metadata": {},
   "outputs": [
    {
     "data": {
      "text/plain": [
       "True"
      ]
     },
     "execution_count": 32,
     "metadata": {},
     "output_type": "execute_result"
    }
   ],
   "source": [
    "#Checking for null values\n",
    "\n",
    "data_q3.isnull().any().any()"
   ]
  },
  {
   "cell_type": "code",
   "execution_count": 33,
   "id": "6f9a8cd7",
   "metadata": {},
   "outputs": [],
   "source": [
    "#Dropping null values\n",
    "\n",
    "data_q3.dropna(inplace=True)"
   ]
  },
  {
   "cell_type": "code",
   "execution_count": 34,
   "id": "fa4ffb2e",
   "metadata": {},
   "outputs": [],
   "source": [
    "# Selecting only the numerical columns for clustering\n",
    "\n",
    "numerical_cols = ['InboundRatio', 'InternationalStudentsNO', 'KOFPoGI',\n",
    "                  'KOFEcGI', 'KOFSoGI', 'ISCED5 Percentage', \n",
    "                  'ISCED6 Percentage', 'ISCED7 Percentage',\n",
    "                  'ISCED8 Percentage', 'top_50_count', \n",
    "                  'top_100_count', 'top_500_count', 'top_1000_count']\n",
    "\n",
    "dataframe = data_q3[numerical_cols]"
   ]
  },
  {
   "cell_type": "code",
   "execution_count": 35,
   "id": "37959a5d",
   "metadata": {},
   "outputs": [],
   "source": [
    "# Scaling the data\n",
    "\n",
    "scaler = StandardScaler()\n",
    "fitted = scaler.fit(dataframe)\n",
    "dataframe_scaled = pd.DataFrame(fitted.transform(dataframe))"
   ]
  },
  {
   "cell_type": "markdown",
   "id": "af1a0e9e",
   "metadata": {},
   "source": [
    "# Question 3 . B"
   ]
  },
  {
   "cell_type": "code",
   "execution_count": 36,
   "id": "65b35000",
   "metadata": {},
   "outputs": [
    {
     "data": {
      "image/png": "[encoded data removed]",
      "text/plain": [
       "<Figure size 1000x600 with 1 Axes>"
      ]
     },
     "metadata": {},
     "output_type": "display_data"
    }
   ],
   "source": [
    "# Suppressing the warning about memory leak on Windows with MKL\n",
    "warnings.filterwarnings(\"ignore\", message=\"KMeans is known to have a memory leak on Windows with MKL\")\n",
    "\n",
    "inertia = []\n",
    "silhouette_scores = []\n",
    "range_values = range(2, 11)\n",
    "\n",
    "for i in range_values:\n",
    "    kmeans = KMeans(n_clusters=i, random_state=42,n_init=10)\n",
    "    kmeans.fit(dataframe_scaled)\n",
    "    inertia.append(kmeans.inertia_)\n",
    "    silhouette_scores.append(silhouette_score(dataframe_scaled, kmeans.labels_))\n",
    "\n",
    "# Plotting the Elbow Method graph\n",
    "\n",
    "plt.figure(figsize=(10, 6))\n",
    "plt.plot(range_values, inertia, '-o', color='blue')\n",
    "plt.title('Elbow Method')\n",
    "plt.xlabel('Number of clusters')\n",
    "plt.ylabel('Inertia')\n",
    "plt.xticks(range_values)\n",
    "plt.grid(True)\n",
    "plt.show()\n",
    "\n"
   ]
  },
  {
   "cell_type": "markdown",
   "id": "426f0e47",
   "metadata": {},
   "source": [
    "The inertia graph shows a noticeable bend at 3 clusters, indicating that beyond this point, the decrease in inertia (sum of squared distances to the nearest cluster center) becomes less significant. This suggests that 3 clusters might be a good choice."
   ]
  },
  {
   "cell_type": "code",
   "execution_count": 45,
   "id": "63e842d0",
   "metadata": {},
   "outputs": [
    {
     "data": {
      "image/png": "[encoded data removed]",
      "text/plain": [
       "<Figure size 1000x600 with 1 Axes>"
      ]
     },
     "metadata": {},
     "output_type": "display_data"
    }
   ],
   "source": [
    "# Plotting the Silhouette Scores\n",
    "\n",
    "plt.figure(figsize=(10, 6))\n",
    "plt.plot(range_values, silhouette_scores, '-o', color='red')\n",
    "plt.title('Silhouette Scores')\n",
    "plt.xlabel('Number of clusters')\n",
    "plt.ylabel('Silhouette Score')\n",
    "plt.xticks(range_values)\n",
    "plt.grid(True)\n",
    "plt.show()"
   ]
  },
  {
   "cell_type": "markdown",
   "id": "59284448",
   "metadata": {},
   "source": [
    "The silhouette scores, which measure how similar an object is to its own cluster compared to other clusters, peak at 3 clusters as well. This indicates that the clustering solution with 3 clusters has, on average, better-defined clusters."
   ]
  },
  {
   "cell_type": "markdown",
   "id": "c15528d3",
   "metadata": {},
   "source": [
    "Both methods suggest that 3 clusters would be the optimal number for this dataset, providing a balance between cluster cohesion and separation."
   ]
  },
  {
   "cell_type": "code",
   "execution_count": 46,
   "id": "963d48bd",
   "metadata": {},
   "outputs": [
    {
     "data": {
      "text/html": [
       "<div>\n",
       "<style scoped>\n",
       "    .dataframe tbody tr th:only-of-type {\n",
       "        vertical-align: middle;\n",
       "    }\n",
       "\n",
       "    .dataframe tbody tr th {\n",
       "        vertical-align: top;\n",
       "    }\n",
       "\n",
       "    .dataframe thead th {\n",
       "        text-align: right;\n",
       "    }\n",
       "</style>\n",
       "<table border=\"1\" class=\"dataframe\">\n",
       "  <thead>\n",
       "    <tr style=\"text-align: right;\">\n",
       "      <th></th>\n",
       "      <th>InboundRatio</th>\n",
       "      <th>InternationalStudentsNO</th>\n",
       "      <th>KOFPoGI</th>\n",
       "      <th>KOFEcGI</th>\n",
       "      <th>KOFSoGI</th>\n",
       "      <th>ISCED5 Percentage</th>\n",
       "      <th>ISCED6 Percentage</th>\n",
       "      <th>ISCED7 Percentage</th>\n",
       "      <th>ISCED8 Percentage</th>\n",
       "      <th>top_50_count</th>\n",
       "      <th>top_100_count</th>\n",
       "      <th>top_500_count</th>\n",
       "      <th>top_1000_count</th>\n",
       "      <th>Cluster</th>\n",
       "    </tr>\n",
       "  </thead>\n",
       "  <tbody>\n",
       "    <tr>\n",
       "      <th>0</th>\n",
       "      <td>3.50011</td>\n",
       "      <td>116330</td>\n",
       "      <td>91</td>\n",
       "      <td>48</td>\n",
       "      <td>72</td>\n",
       "      <td>18.103877</td>\n",
       "      <td>68.238077</td>\n",
       "      <td>8.368618</td>\n",
       "      <td>0.737339</td>\n",
       "      <td>0</td>\n",
       "      <td>1</td>\n",
       "      <td>5</td>\n",
       "      <td>15</td>\n",
       "      <td>2</td>\n",
       "    </tr>\n",
       "    <tr>\n",
       "      <th>1</th>\n",
       "      <td>28.37490</td>\n",
       "      <td>509160</td>\n",
       "      <td>88</td>\n",
       "      <td>68</td>\n",
       "      <td>88</td>\n",
       "      <td>25.407825</td>\n",
       "      <td>65.591820</td>\n",
       "      <td>21.327540</td>\n",
       "      <td>3.624852</td>\n",
       "      <td>5</td>\n",
       "      <td>7</td>\n",
       "      <td>25</td>\n",
       "      <td>37</td>\n",
       "      <td>0</td>\n",
       "    </tr>\n",
       "    <tr>\n",
       "      <th>2</th>\n",
       "      <td>17.64123</td>\n",
       "      <td>74631</td>\n",
       "      <td>95</td>\n",
       "      <td>83</td>\n",
       "      <td>88</td>\n",
       "      <td>15.080255</td>\n",
       "      <td>40.310180</td>\n",
       "      <td>27.126033</td>\n",
       "      <td>3.959066</td>\n",
       "      <td>0</td>\n",
       "      <td>0</td>\n",
       "      <td>5</td>\n",
       "      <td>8</td>\n",
       "      <td>0</td>\n",
       "    </tr>\n",
       "    <tr>\n",
       "      <th>3</th>\n",
       "      <td>10.04272</td>\n",
       "      <td>52143</td>\n",
       "      <td>96</td>\n",
       "      <td>89</td>\n",
       "      <td>86</td>\n",
       "      <td>3.399620</td>\n",
       "      <td>58.107011</td>\n",
       "      <td>15.999636</td>\n",
       "      <td>2.631904</td>\n",
       "      <td>0</td>\n",
       "      <td>1</td>\n",
       "      <td>7</td>\n",
       "      <td>8</td>\n",
       "      <td>0</td>\n",
       "    </tr>\n",
       "    <tr>\n",
       "      <th>4</th>\n",
       "      <td>0.24504</td>\n",
       "      <td>21803</td>\n",
       "      <td>90</td>\n",
       "      <td>42</td>\n",
       "      <td>62</td>\n",
       "      <td>0.004350</td>\n",
       "      <td>53.314007</td>\n",
       "      <td>1.083925</td>\n",
       "      <td>0.734018</td>\n",
       "      <td>0</td>\n",
       "      <td>0</td>\n",
       "      <td>5</td>\n",
       "      <td>22</td>\n",
       "      <td>2</td>\n",
       "    </tr>\n",
       "  </tbody>\n",
       "</table>\n",
       "</div>"
      ],
      "text/plain": [
       "   InboundRatio  InternationalStudentsNO  KOFPoGI  KOFEcGI  KOFSoGI  \\\n",
       "0       3.50011                   116330       91       48       72   \n",
       "1      28.37490                   509160       88       68       88   \n",
       "2      17.64123                    74631       95       83       88   \n",
       "3      10.04272                    52143       96       89       86   \n",
       "4       0.24504                    21803       90       42       62   \n",
       "\n",
       "   ISCED5 Percentage  ISCED6 Percentage  ISCED7 Percentage  ISCED8 Percentage  \\\n",
       "0          18.103877          68.238077           8.368618           0.737339   \n",
       "1          25.407825          65.591820          21.327540           3.624852   \n",
       "2          15.080255          40.310180          27.126033           3.959066   \n",
       "3           3.399620          58.107011          15.999636           2.631904   \n",
       "4           0.004350          53.314007           1.083925           0.734018   \n",
       "\n",
       "   top_50_count  top_100_count  top_500_count  top_1000_count  Cluster  \n",
       "0             0              1              5              15        2  \n",
       "1             5              7             25              37        0  \n",
       "2             0              0              5               8        0  \n",
       "3             0              1              7               8        0  \n",
       "4             0              0              5              22        2  "
      ]
     },
     "execution_count": 46,
     "metadata": {},
     "output_type": "execute_result"
    }
   ],
   "source": [
    "# Running K-means clustering with 3 clusters\n",
    "\n",
    "kmeans = KMeans(n_clusters=3, random_state=42, n_init=10)\n",
    "kmeans.fit(dataframe_scaled)\n",
    "\n",
    "# Adding the cluster labels to the original dataframe\n",
    "\n",
    "dataframe.loc[:, 'Cluster'] = kmeans.labels_\n",
    "\n",
    "dataframe.head()"
   ]
  },
  {
   "cell_type": "code",
   "execution_count": 39,
   "id": "e9310990",
   "metadata": {},
   "outputs": [
    {
     "data": {
      "image/png": "[encoded data removed]",
      "text/plain": [
       "<Figure size 800x600 with 1 Axes>"
      ]
     },
     "metadata": {},
     "output_type": "display_data"
    }
   ],
   "source": [
    "# Using PCA to reduce dimensionality and plot the clusters in two dimensions.\n",
    "\n",
    "# Separating clusters\n",
    "\n",
    "cluster_0 = dataframe[dataframe['Cluster'] == 0].drop('Cluster', axis=1)\n",
    "cluster_1 = dataframe[dataframe['Cluster'] == 1].drop('Cluster', axis=1)\n",
    "cluster_2 = dataframe[dataframe['Cluster'] == 2].drop('Cluster', axis=1)\n",
    "\n",
    "# Applying PCA on all data\n",
    "\n",
    "pca = PCA(n_components=2)\n",
    "X_pca = pca.fit_transform(dataframe.drop('Cluster', axis=1))\n",
    "\n",
    "# Applying PCA transformation to each cluster\n",
    "\n",
    "cluster_0_pca = pca.transform(cluster_0)\n",
    "cluster_1_pca = pca.transform(cluster_1)\n",
    "cluster_2_pca = pca.transform(cluster_2)\n",
    "\n",
    "# Plotting\n",
    "\n",
    "plt.figure(figsize=(8, 6))\n",
    "plt.scatter(cluster_0_pca[:, 0], cluster_0_pca[:, 1], label='Cluster 0')\n",
    "plt.scatter(cluster_1_pca[:, 0], cluster_1_pca[:, 1], label='Cluster 1')\n",
    "plt.scatter(cluster_2_pca[:, 0], cluster_2_pca[:, 1], label='Cluster 2')\n",
    "plt.legend()\n",
    "plt.title('Cluster - K=3')\n",
    "plt.show()"
   ]
  },
  {
   "cell_type": "markdown",
   "id": "fb7b8871",
   "metadata": {},
   "source": [
    "The scatter plot with the first 2 PCs shows a clear difference between the clusters. However, minor overlapping could be seen bewteen cluster 0 and 1."
   ]
  },
  {
   "cell_type": "markdown",
   "id": "e88aec0d",
   "metadata": {},
   "source": [
    "# Question 3 . C"
   ]
  },
  {
   "cell_type": "code",
   "execution_count": 48,
   "id": "8052786b",
   "metadata": {},
   "outputs": [
    {
     "data": {
      "image/png": "[encoded data removed]",
      "text/plain": [
       "<Figure size 1200x800 with 1 Axes>"
      ]
     },
     "metadata": {},
     "output_type": "display_data"
    }
   ],
   "source": [
    "plt.figure(figsize=(12, 8)) \n",
    "dendrogram = hierarchy.dendrogram(hierarchy.linkage(dataframe_scaled, \n",
    "                                                    method='ward'), \n",
    "                                  labels=dataframe_scaled.index)\n",
    "plt.title('Dendrogram')\n",
    "plt.show()\n",
    "\n"
   ]
  },
  {
   "cell_type": "code",
   "execution_count": 41,
   "id": "bccd4304",
   "metadata": {},
   "outputs": [],
   "source": [
    "model = AgglomerativeClustering(n_clusters=3, linkage=\"ward\", \n",
    "                                compute_distances = True);\n",
    "model.fit(dataframe_scaled);\n",
    "\n",
    "dataframe.loc[:, \"Cluster\"] = model.labels_"
   ]
  },
  {
   "cell_type": "code",
   "execution_count": 42,
   "id": "c71fa1d2",
   "metadata": {},
   "outputs": [
    {
     "data": {
      "image/png": "[encoded data removed]",
      "text/plain": [
       "<Figure size 800x600 with 1 Axes>"
      ]
     },
     "metadata": {},
     "output_type": "display_data"
    }
   ],
   "source": [
    "# Using PCA to reduce dimensionality and plot the clusters in two dimensions.\n",
    "\n",
    "# Separating clusters\n",
    "\n",
    "cluster_0 = dataframe[dataframe['Cluster'] == 0].drop('Cluster', axis=1)\n",
    "cluster_1 = dataframe[dataframe['Cluster'] == 1].drop('Cluster', axis=1)\n",
    "cluster_2 = dataframe[dataframe['Cluster'] == 2].drop('Cluster', axis=1)\n",
    "\n",
    "# Applying PCA on all data\n",
    "\n",
    "pca = PCA(n_components=2)\n",
    "X_pca = pca.fit_transform(dataframe.drop('Cluster', axis=1))\n",
    "\n",
    "# Applying PCA transformation to each cluster\n",
    "\n",
    "cluster_0_pca = pca.transform(cluster_0)\n",
    "cluster_1_pca = pca.transform(cluster_1)\n",
    "cluster_2_pca = pca.transform(cluster_2)\n",
    "\n",
    "# Plotting\n",
    "\n",
    "plt.figure(figsize=(8, 6))\n",
    "plt.scatter(cluster_0_pca[:, 0], cluster_0_pca[:, 1], label='Cluster 0')\n",
    "plt.scatter(cluster_1_pca[:, 0], cluster_1_pca[:, 1], label='Cluster 1')\n",
    "plt.scatter(cluster_2_pca[:, 0], cluster_2_pca[:, 1], label='Cluster 2')\n",
    "plt.legend()\n",
    "plt.title('PCA Scatter Plot for All Clusters')\n",
    "plt.show()"
   ]
  },
  {
   "cell_type": "markdown",
   "id": "018599eb",
   "metadata": {},
   "source": [
    "The scatter plot with the first 2 PCs shows a clear difference between the clusters. There is no overlapping of clusters using this approach."
   ]
  },
  {
   "cell_type": "markdown",
   "id": "8eb9dc42",
   "metadata": {},
   "source": [
    "# Question 3 . D"
   ]
  },
  {
   "cell_type": "markdown",
   "id": "4b2e27fc",
   "metadata": {},
   "source": [
    "The findings from both K-Means and Agglomerative Clustering analyses indicate that the optimal number of clusters for the dataset is three. This consistency across different clustering methods strengthens the confidence in the proposed clustering structure.  In the K-Means analysis, there is noticeable overlap or intermingling between Cluster 0 and Cluster 1. Such overlap implies that these clusters might share similar characteristics or features in the principal component space. In contrast, Agglomerative Clustering exhibited superior performance in segregating the clusters effectively, showcasing clearer boundaries between them."
   ]
  }
 ],
 "metadata": {
  "kernelspec": {
   "display_name": "Python 3 (ipykernel)",
   "language": "python",
   "name": "python3"
  },
  "language_info": {
   "codemirror_mode": {
    "name": "ipython",
    "version": 3
   },
   "file_extension": ".py",
   "mimetype": "text/x-python",
   "name": "python",
   "nbconvert_exporter": "python",
   "pygments_lexer": "ipython3",
   "version": "3.11.5"
  }
 },
 "nbformat": 4,
 "nbformat_minor": 5
}
