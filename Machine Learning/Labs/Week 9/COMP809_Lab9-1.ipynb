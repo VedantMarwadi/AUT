{
 "cells": [
  {
   "cell_type": "code",
   "execution_count": null,
   "id": "a3167e2e",
   "metadata": {},
   "outputs": [],
   "source": [
    "'''\n",
    " *** To be completed by the student\n",
    "'''"
   ]
  },
  {
   "cell_type": "code",
   "execution_count": null,
   "id": "1dea1c95",
   "metadata": {},
   "outputs": [],
   "source": [
    "pip install mlxtend"
   ]
  },
  {
   "cell_type": "code",
   "execution_count": 3,
   "id": "1129c193",
   "metadata": {},
   "outputs": [
    {
     "ename": "ModuleNotFoundError",
     "evalue": "No module named 'numpy'",
     "output_type": "error",
     "traceback": [
      "\u001b[1;31m---------------------------------------------------------------------------\u001b[0m",
      "\u001b[1;31mModuleNotFoundError\u001b[0m                       Traceback (most recent call last)",
      "Cell \u001b[1;32mIn[3], line 2\u001b[0m\n\u001b[0;32m      1\u001b[0m \u001b[38;5;66;03m#Import libraries\u001b[39;00m\n\u001b[1;32m----> 2\u001b[0m \u001b[38;5;28;01mimport\u001b[39;00m \u001b[38;5;21;01mnumpy\u001b[39;00m \u001b[38;5;28;01mas\u001b[39;00m \u001b[38;5;21;01mnp\u001b[39;00m\n\u001b[0;32m      3\u001b[0m \u001b[38;5;28;01mimport\u001b[39;00m \u001b[38;5;21;01mpandas\u001b[39;00m \u001b[38;5;28;01mas\u001b[39;00m \u001b[38;5;21;01mpd\u001b[39;00m\n\u001b[0;32m      4\u001b[0m \u001b[38;5;28;01mfrom\u001b[39;00m \u001b[38;5;21;01msklearn\u001b[39;00m\u001b[38;5;21;01m.\u001b[39;00m\u001b[38;5;21;01mpreprocessing\u001b[39;00m \u001b[38;5;28;01mimport\u001b[39;00m StandardScaler\n",
      "\u001b[1;31mModuleNotFoundError\u001b[0m: No module named 'numpy'"
     ]
    }
   ],
   "source": [
    "#Import libraries\n",
    "import numpy as np\n",
    "import pandas as pd\n",
    "from sklearn.preprocessing import StandardScaler\n",
    "from sklearn.neighbors import KNeighborsClassifier\n",
    "from mlxtend.plotting import plot_decision_regions\n",
    "from sklearn.model_selection import train_test_split\n",
    "from sklearn.model_selection import cross_val_score\n",
    "from sklearn import metrics\n",
    "from sklearn.metrics import confusion_matrix, accuracy_score\n",
    "from sklearn.metrics import classification_report\n",
    "\n",
    "import matplotlib\n",
    "import matplotlib.pyplot as plt\n",
    "import seaborn as sns\n",
    "%matplotlib inline\n",
    "\n",
    "import warnings\n",
    "warnings.filterwarnings('ignore')"
   ]
  },
  {
   "cell_type": "code",
   "execution_count": 2,
   "id": "3a8d5550",
   "metadata": {},
   "outputs": [
    {
     "ename": "NameError",
     "evalue": "name 'pd' is not defined",
     "output_type": "error",
     "traceback": [
      "\u001b[1;31m---------------------------------------------------------------------------\u001b[0m",
      "\u001b[1;31mNameError\u001b[0m                                 Traceback (most recent call last)",
      "Cell \u001b[1;32mIn[2], line 4\u001b[0m\n\u001b[0;32m      1\u001b[0m \u001b[38;5;66;03m#Create dataframe and explore the features\u001b[39;00m\n\u001b[0;32m      2\u001b[0m \n\u001b[0;32m      3\u001b[0m \u001b[38;5;66;03m#Loading the dataset\u001b[39;00m\n\u001b[1;32m----> 4\u001b[0m diabetes \u001b[38;5;241m=\u001b[39m \u001b[43mpd\u001b[49m\u001b[38;5;241m.\u001b[39mread_csv(\u001b[38;5;124m'\u001b[39m\u001b[38;5;124mdiabetesdata.csv\u001b[39m\u001b[38;5;124m'\u001b[39m)\n\u001b[0;32m      5\u001b[0m \u001b[38;5;124;03m'''\u001b[39;00m\n\u001b[0;32m      6\u001b[0m \u001b[38;5;124;03mbasic statistic details about the data (note only numerical columns would be displayed here unless parameter include=\"all\")\u001b[39;00m\n\u001b[0;32m      7\u001b[0m \u001b[38;5;124;03mfor reference: https://pandas.pydata.org/pandas-docs/stable/generated/pandas.DataFrame.describe.html#pandas.DataFrame.describe\u001b[39;00m\n\u001b[0;32m      8\u001b[0m \n\u001b[0;32m      9\u001b[0m \u001b[38;5;124;03m'''\u001b[39;00m\n\u001b[0;32m     10\u001b[0m \u001b[38;5;66;03m# show the summary statistics\u001b[39;00m\n\u001b[0;32m     11\u001b[0m \u001b[38;5;66;03m#diabetes_data.describe().T    \u001b[39;00m\n",
      "\u001b[1;31mNameError\u001b[0m: name 'pd' is not defined"
     ]
    }
   ],
   "source": [
    "#Create dataframe and explore the features\n",
    "\n",
    "#Loading the dataset\n",
    "diabetes = pd.read_csv('diabetesdata.csv')\n",
    "'''\n",
    "basic statistic details about the data (note only numerical columns would be displayed here unless parameter include=\"all\")\n",
    "for reference: https://pandas.pydata.org/pandas-docs/stable/generated/pandas.DataFrame.describe.html#pandas.DataFrame.describe\n",
    "\n",
    "'''\n",
    "# show the summary statistics\n",
    "#diabetes_data.describe().T    "
   ]
  },
  {
   "cell_type": "code",
   "execution_count": null,
   "id": "607549a4",
   "metadata": {},
   "outputs": [],
   "source": [
    "#Task 1\n",
    "plt.figure(figsize=(12,10))  # Set the size of figure to 12 by 10.\n",
    "p=sns.heatmap(diabetes.corr(), annot=True,cmap ='YlGnBu') "
   ]
  },
  {
   "cell_type": "code",
   "execution_count": 1,
   "id": "80f34fb8",
   "metadata": {},
   "outputs": [
    {
     "ename": "SyntaxError",
     "evalue": "invalid syntax (3030088300.py, line 8)",
     "output_type": "error",
     "traceback": [
      "\u001b[1;36m  Cell \u001b[1;32mIn[1], line 8\u001b[1;36m\u001b[0m\n\u001b[1;33m    p=***.plot(kind=\"bar\",color=colors)\u001b[0m\n\u001b[1;37m      ^\u001b[0m\n\u001b[1;31mSyntaxError\u001b[0m\u001b[1;31m:\u001b[0m invalid syntax\n"
     ]
    }
   ],
   "source": [
    "#Task 2\n",
    "## checking the balance of the data by plotting the count of outcomes by their value\n",
    "color_wheel = {1: \"#ff2900\", 2: \"#12ed27\"}\n",
    "colors = diabetes[\"Outcome\"].map(lambda x: color_wheel.get(x + 1))\n",
    "#print number of instances in each class\n",
    "print(diabetes.Outcome.value_counts()) \n",
    "#Visualsie the number of instances in each class using bar plot\n",
    "p=***.plot(kind=\"bar\",color=colors) "
   ]
  },
  {
   "cell_type": "code",
   "execution_count": null,
   "id": "c087bcd6",
   "metadata": {},
   "outputs": [],
   "source": [
    "#Task 3\n",
    "sc_X = StandardScaler()\n",
    "# Define the input and target variables\n",
    "\n",
    "X =  pd.DataFrame(***(diabetes.drop([\"Outcome\"],axis = 1),),\n",
    "        columns=['Pregnancies', 'Glucose', 'BloodPressure', 'SkinThickness', 'Insulin',\n",
    "       'BMI', 'DiabetesPedigreeFunction', 'Age']) #Input\n",
    "# #Target/class\n",
    "y = ***\n",
    "X.head()"
   ]
  },
  {
   "cell_type": "code",
   "execution_count": null,
   "id": "6f0ab85f",
   "metadata": {},
   "outputs": [],
   "source": [
    "#Task 4\n",
    "#using train_test_split to create train and test sets\n",
    "\n",
    "X_train,X_test,y_train,y_test = train_test_split(***) "
   ]
  },
  {
   "cell_type": "code",
   "execution_count": null,
   "id": "329554c0",
   "metadata": {},
   "outputs": [],
   "source": [
    "#Task 5\n",
    "test_scores = []\n",
    "train_scores = []\n",
    "\n",
    "for i in range(1,15):\n",
    "\n",
    "    knn = KNeighborsClassifier(i)\n",
    "    knn.fit(X_train,y_train)\n",
    "    \n",
    "    train_scores.append(knn.score(X_train,y_train))\n",
    "    test_scores.append(knn.score(X_test,y_test))\n",
    "    \n",
    "## Find the max score from the same data points that were used for training\n",
    "max_train_score = *** \n",
    "print('Max train score {} % '.format(max_train_score*100))"
   ]
  },
  {
   "cell_type": "code",
   "execution_count": null,
   "id": "a2a6a125",
   "metadata": {},
   "outputs": [],
   "source": [
    "#Task 6 plot both train and test scores\n",
    "plt.figure(figsize=(12,5))\n",
    "p = sns.lineplot(***) #train score\n",
    "p = sns.lineplot(***) #test score"
   ]
  },
  {
   "cell_type": "code",
   "execution_count": null,
   "id": "44db3ce4",
   "metadata": {},
   "outputs": [],
   "source": [
    "#Task 7 \n",
    "#Pass the best k from task 6 to create the final KNN\n",
    "knn = KNeighborsClassifier(k)\n",
    "knn.fit(***) \n",
    "knn.score(***) # get the score\n"
   ]
  },
  {
   "cell_type": "code",
   "execution_count": null,
   "id": "94788f28",
   "metadata": {},
   "outputs": [],
   "source": [
    "#Task 8 (1)\n",
    "# get the predictions using task 7 classifier\n",
    "y_pred = knn.predict(X_test)\n",
    "#create the confusion matrix\n",
    "confusion_matrix(***)\n",
    "# Use andas crosstab to from cross-tabulation of three columns (0, 1 and ALL)\n",
    "pd.crosstab(y_test, y_pred, rownames=['True'], colnames=['Predicted'], margins=True)"
   ]
  },
  {
   "cell_type": "code",
   "execution_count": null,
   "id": "f88571dd",
   "metadata": {},
   "outputs": [],
   "source": [
    "#Task 8 (2)\n",
    "y_pred = knn.predict(X_test)\n",
    "cnf_matrix = metrics.confusion_matrix(***)\n",
    "p = sns.heatmap(pd.DataFrame(cnf_matrix), annot=True, cmap=\"PiYG\" ,fmt='g')\n",
    "plt.title('Confusion matrix', y=1.1)\n",
    "plt.ylabel('Actual label')\n",
    "plt.xlabel('Predicted label')"
   ]
  },
  {
   "cell_type": "code",
   "execution_count": null,
   "id": "1f4d76b5",
   "metadata": {},
   "outputs": [],
   "source": [
    "# Task 9: Generate classification_report\n",
    "\n",
    "# see https://scikit-learn.org/stable/modules/generated/sklearn.metrics.classification_report.html"
   ]
  },
  {
   "cell_type": "code",
   "execution_count": null,
   "id": "f53bd37a",
   "metadata": {},
   "outputs": [],
   "source": [
    "accuracy = accuracy_score(y_test, y_pred)*100\n",
    "print('Accuracy of our model is equal ' + str(round(accuracy, 2)) + ' %.')"
   ]
  }
 ],
 "metadata": {
  "kernelspec": {
   "display_name": "Python 3 (ipykernel)",
   "language": "python",
   "name": "python3"
  },
  "language_info": {
   "codemirror_mode": {
    "name": "ipython",
    "version": 3
   },
   "file_extension": ".py",
   "mimetype": "text/x-python",
   "name": "python",
   "nbconvert_exporter": "python",
   "pygments_lexer": "ipython3",
   "version": "3.12.1"
  }
 },
 "nbformat": 4,
 "nbformat_minor": 5
}
