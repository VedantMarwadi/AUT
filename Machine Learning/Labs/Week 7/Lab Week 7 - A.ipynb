{
 "cells": [
  {
   "cell_type": "code",
   "execution_count": 9,
   "id": "44087019-d795-4ac1-9b88-7444205339e1",
   "metadata": {},
   "outputs": [],
   "source": [
    "import pandas as pd\n",
    "import numpy as np\n",
    "import matplotlib.pyplot as plt\n",
    "from sklearn.model_selection import train_test_split\n",
    "from sklearn.tree import DecisionTreeClassifier\n",
    "from sklearn.tree import export_text\n",
    "from sklearn.metrics import precision_score, recall_score, auc\n",
    "from sklearn.metrics import roc_curve, accuracy_score\n",
    "import seaborn as sns\n",
    "from sklearn.metrics import confusion_matrix, ConfusionMatrixDisplay\n",
    "from sklearn.datasets import load_iris\n",
    "from sklearn.model_selection import train_test_split\n",
    "from sklearn.naive_bayes import GaussianNB\n",
    "from sklearn.naive_bayes import MultinomialNB"
   ]
  },
  {
   "cell_type": "code",
   "execution_count": 22,
   "id": "80b12140-ae84-450b-aee4-a714461a1de8",
   "metadata": {},
   "outputs": [
    {
     "name": "stdout",
     "output_type": "stream",
     "text": [
      "     sepal_len  sepal_wid  petal_len  petal_wid\n",
      "0          5.1        3.5        1.4        0.2\n",
      "1          4.9        3.0        1.4        0.2\n",
      "2          4.7        3.2        1.3        0.2\n",
      "3          4.6        3.1        1.5        0.2\n",
      "4          5.0        3.6        1.4        0.2\n",
      "..         ...        ...        ...        ...\n",
      "145        6.7        3.0        5.2        2.3\n",
      "146        6.3        2.5        5.0        1.9\n",
      "147        6.5        3.0        5.2        2.0\n",
      "148        6.2        3.4        5.4        2.3\n",
      "149        5.9        3.0        5.1        1.8\n",
      "\n",
      "[150 rows x 4 columns]\n",
      "0      0\n",
      "1      0\n",
      "2      0\n",
      "3      0\n",
      "4      0\n",
      "      ..\n",
      "145    2\n",
      "146    2\n",
      "147    2\n",
      "148    2\n",
      "149    2\n",
      "Name: class, Length: 150, dtype: int64\n"
     ]
    }
   ],
   "source": [
    "rawdata = pd.read_excel('Iris.xlsx') #Adjust the path\n",
    "nrow, ncol = rawdata.shape\n",
    "\n",
    "predictors = rawdata.iloc[:, :ncol - 1]\n",
    "print(predictors)\n",
    "\n",
    "target = rawdata.iloc[:, -1]\n",
    "print(target)\n"
   ]
  },
  {
   "cell_type": "code",
   "execution_count": 23,
   "id": "026656e9-73b9-4a3c-88cf-d8337f932af4",
   "metadata": {},
   "outputs": [],
   "source": [
    "#Create train and test sets\n",
    "X_train, X_test, y_train, y_test = train_test_split(predictors, target, stratify=target, test_size=.3)"
   ]
  },
  {
   "cell_type": "code",
   "execution_count": 25,
   "id": "93918060-1683-4b5a-86a1-5c18876eedaa",
   "metadata": {},
   "outputs": [
    {
     "name": "stdout",
     "output_type": "stream",
     "text": [
      "Accuracy score of our model with Gaussian Naive Bayes: 0.9777777777777777\n",
      "Number of mislabeled points out of a total 45 points : 1\n"
     ]
    }
   ],
   "source": [
    "gnb = GaussianNB() #suitable for numeric features\n",
    "\n",
    "#Use ravel() functions to return contiguous flattened array :https://numpy.org/doc/stable/reference/generated/numpy.ravel.html\n",
    "#Train your model using train set\n",
    "#gnb.fit(X_train, np.ravel(y_train,order='C')) \n",
    "\n",
    "gnb.fit(X_train, y_train)\n",
    "\n",
    "# Fit your model to test set to make prediction\n",
    "predictions = gnb.predict(X_test)\n",
    "#calculate accuracy of your model using predicted vs actual value\n",
    "print(\"Accuracy score of our model with Gaussian Naive Bayes:\", accuracy_score(y_test, predictions))\n",
    "\n",
    "print(\"Number of mislabeled points out of a total %d points : %d\"\n",
    "% (X_test.shape[0], (y_test != predictions).sum()))"
   ]
  },
  {
   "cell_type": "code",
   "execution_count": 26,
   "id": "7f11d41e-d850-444a-8944-ccca6803150a",
   "metadata": {},
   "outputs": [
    {
     "name": "stdout",
     "output_type": "stream",
     "text": [
      "Precision score of our model with GaussianNB: 0.9777777777777777\n",
      "Recall score of our model with GaussianNB : 0.9777777777777777\n",
      "AUC values of the decision tree 1.0\n"
     ]
    },
    {
     "data": {
      "image/png": "[encoded data removed]",
      "text/plain": [
       "<Figure size 640x480 with 1 Axes>"
      ]
     },
     "metadata": {},
     "output_type": "display_data"
    }
   ],
   "source": [
    "#Get more metrics for avaluating model performance\n",
    "fpr = dict() # store false positive \n",
    "tpr = dict() # store the true positive rate \n",
    "roc_auc = dict()\n",
    "prob = gnb.predict_proba(X_test)\n",
    "\n",
    "precision = precision_score(y_true=y_test, y_pred=predictions, average='micro') \n",
    "print(\"Precision score of our model with GaussianNB:\", precision) \n",
    "\n",
    "recall = recall_score(y_true=y_test, y_pred=predictions, average='micro') \n",
    "print(\"Recall score of our model with GaussianNB :\", recall) \n",
    "\n",
    "for x in range(3): \n",
    " fpr[x], tpr[x], _ = roc_curve(y_test[:], prob[:, x],pos_label=x) \n",
    "    \n",
    "roc_auc[x] = auc(fpr[x], tpr[x]) \n",
    "print(\"AUC values of the decision tree\",roc_auc[x]) \n",
    "\n",
    "plt.plot(fpr[x], tpr[x], color='darkorange',label='ROC curve (area = %0.2f)' % roc_auc[x]) \n",
    "plt.show() "
   ]
  },
  {
   "cell_type": "code",
   "execution_count": 29,
   "id": "b6f77fe0-108e-4fbc-a1cf-c5367957a834",
   "metadata": {},
   "outputs": [
    {
     "data": {
      "image/png": "[encoded data removed]",
      "text/plain": [
       "<Figure size 640x480 with 2 Axes>"
      ]
     },
     "metadata": {},
     "output_type": "display_data"
    }
   ],
   "source": [
    "# Get the confusion matrix\n",
    "conf_matrix = confusion_matrix(y_test, gnb.predict(X_test))\n",
    "\n",
    "# Plot confusion matrix\n",
    "disp = ConfusionMatrixDisplay(confusion_matrix=conf_matrix, display_labels=gnb.classes_)\n",
    "disp.plot(cmap=plt.cm.Blues)\n",
    "plt.show()"
   ]
  },
  {
   "cell_type": "code",
   "execution_count": 30,
   "id": "63ce65d5-7fe5-406e-88d1-e4619a8830b8",
   "metadata": {},
   "outputs": [
    {
     "name": "stdout",
     "output_type": "stream",
     "text": [
      "Accuracy score of our model with Multinomial Naive Bayes: 0.9777777777777777\n"
     ]
    }
   ],
   "source": [
    "#Multidimentional Naive Bayes\n",
    "mnb = MultinomialNB() #optimized for nominal features but can work for numeric ones as well\n",
    "mnb.fit(X_train, np.ravel(y_train,order='C')) \n",
    "predictions = mnb.predict(X_test) \n",
    "print(\"Accuracy score of our model with Multinomial Naive Bayes:\", accuracy_score(y_test, predictions)) "
   ]
  }
 ],
 "metadata": {
  "kernelspec": {
   "display_name": "Python 3 (ipykernel)",
   "language": "python",
   "name": "python3"
  },
  "language_info": {
   "codemirror_mode": {
    "name": "ipython",
    "version": 3
   },
   "file_extension": ".py",
   "mimetype": "text/x-python",
   "name": "python",
   "nbconvert_exporter": "python",
   "pygments_lexer": "ipython3",
   "version": "3.11.7"
  }
 },
 "nbformat": 4,
 "nbformat_minor": 5
}
